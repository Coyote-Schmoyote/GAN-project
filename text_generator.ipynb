{
  "nbformat": 4,
  "nbformat_minor": 0,
  "metadata": {
    "colab": {
      "provenance": [],
      "collapsed_sections": [],
      "mount_file_id": "1X4XQXeUrN5YoApJISv4UbraywIG5WpSM",
      "authorship_tag": "ABX9TyOPz0OQMbpvQeWPo+DhIwmJ",
      "include_colab_link": true
    },
    "kernelspec": {
      "name": "python3",
      "display_name": "Python 3"
    },
    "language_info": {
      "name": "python"
    }
  },
  "cells": [
    {
      "cell_type": "markdown",
      "metadata": {
        "id": "view-in-github",
        "colab_type": "text"
      },
      "source": [
        "<a href=\"https://colab.research.google.com/github/Coyote-Schmoyote/GAN-project/blob/main/text_generator.ipynb\" target=\"_parent\"><img src=\"https://colab.research.google.com/assets/colab-badge.svg\" alt=\"Open In Colab\"/></a>"
      ]
    },
    {
      "cell_type": "code",
      "execution_count": 198,
      "metadata": {
        "id": "co3r1mxyRIVO"
      },
      "outputs": [],
      "source": [
        "import numpy as np\n",
        "import pandas as pd\n",
        "import os\n",
        "import sys\n",
        "from bs4 import BeautifulSoup\n",
        "from tensorflow import keras"
      ]
    },
    {
      "cell_type": "code",
      "source": [
        "data = pd.read_csv(\"/content/drive/MyDrive/E資格機械学習プロジェクト/文章生成/movie-synopsis-ja.csv\", encoding=\"utf-8\")"
      ],
      "metadata": {
        "id": "f3r2GRK7Rd65"
      },
      "execution_count": 202,
      "outputs": []
    },
    {
      "cell_type": "code",
      "source": [
        "data.head()"
      ],
      "metadata": {
        "colab": {
          "base_uri": "https://localhost:8080/",
          "height": 337
        },
        "id": "CEV5A9-3RjuI",
        "outputId": "a8c87aad-6e9a-44a1-cf88-65a97e8a8d08"
      },
      "execution_count": 203,
      "outputs": [
        {
          "output_type": "execute_result",
          "data": {
            "text/plain": [
              "                タイトル                                               あらすじ\n",
              "0         ショーシャンクの空に  1947年、メイン州ポートランド。若くして銀行副頭取を務める優秀な銀行員アンドリュー・デュフ...\n",
              "1          ゴッドファーザー   第二次世界大戦終戦直後の1945年。ニューヨーク五大ファミリーの一角で、最大の勢力を誇るイタ...\n",
              "2             ダークナイト  素性不明の犯罪者ジョーカーに雇われた、道化師のマスクを被った男たちがゴッサム・シティの銀行を...\n",
              "3  ロード・オブ・ザ・リング/王の帰還  昼なお暗いモルドールの山。フロドが眠る隣でゴラムは、自身が“愛しいしと”と呼ぶ“一つの指輪”...\n",
              "4          シンドラーのリスト  1939年9月、ドイツ軍によりポーランドが占領され、ポーランドの都市クラクフもドイツ軍の占領..."
            ],
            "text/html": [
              "\n",
              "  <div id=\"df-4c3aeb2f-774a-41d8-a842-99626a4ee033\">\n",
              "    <div class=\"colab-df-container\">\n",
              "      <div>\n",
              "<style scoped>\n",
              "    .dataframe tbody tr th:only-of-type {\n",
              "        vertical-align: middle;\n",
              "    }\n",
              "\n",
              "    .dataframe tbody tr th {\n",
              "        vertical-align: top;\n",
              "    }\n",
              "\n",
              "    .dataframe thead th {\n",
              "        text-align: right;\n",
              "    }\n",
              "</style>\n",
              "<table border=\"1\" class=\"dataframe\">\n",
              "  <thead>\n",
              "    <tr style=\"text-align: right;\">\n",
              "      <th></th>\n",
              "      <th>タイトル</th>\n",
              "      <th>あらすじ</th>\n",
              "    </tr>\n",
              "  </thead>\n",
              "  <tbody>\n",
              "    <tr>\n",
              "      <th>0</th>\n",
              "      <td>ショーシャンクの空に</td>\n",
              "      <td>1947年、メイン州ポートランド。若くして銀行副頭取を務める優秀な銀行員アンドリュー・デュフ...</td>\n",
              "    </tr>\n",
              "    <tr>\n",
              "      <th>1</th>\n",
              "      <td>ゴッドファーザー</td>\n",
              "      <td>第二次世界大戦終戦直後の1945年。ニューヨーク五大ファミリーの一角で、最大の勢力を誇るイタ...</td>\n",
              "    </tr>\n",
              "    <tr>\n",
              "      <th>2</th>\n",
              "      <td>ダークナイト</td>\n",
              "      <td>素性不明の犯罪者ジョーカーに雇われた、道化師のマスクを被った男たちがゴッサム・シティの銀行を...</td>\n",
              "    </tr>\n",
              "    <tr>\n",
              "      <th>3</th>\n",
              "      <td>ロード・オブ・ザ・リング/王の帰還</td>\n",
              "      <td>昼なお暗いモルドールの山。フロドが眠る隣でゴラムは、自身が“愛しいしと”と呼ぶ“一つの指輪”...</td>\n",
              "    </tr>\n",
              "    <tr>\n",
              "      <th>4</th>\n",
              "      <td>シンドラーのリスト</td>\n",
              "      <td>1939年9月、ドイツ軍によりポーランドが占領され、ポーランドの都市クラクフもドイツ軍の占領...</td>\n",
              "    </tr>\n",
              "  </tbody>\n",
              "</table>\n",
              "</div>\n",
              "      <button class=\"colab-df-convert\" onclick=\"convertToInteractive('df-4c3aeb2f-774a-41d8-a842-99626a4ee033')\"\n",
              "              title=\"Convert this dataframe to an interactive table.\"\n",
              "              style=\"display:none;\">\n",
              "        \n",
              "  <svg xmlns=\"http://www.w3.org/2000/svg\" height=\"24px\"viewBox=\"0 0 24 24\"\n",
              "       width=\"24px\">\n",
              "    <path d=\"M0 0h24v24H0V0z\" fill=\"none\"/>\n",
              "    <path d=\"M18.56 5.44l.94 2.06.94-2.06 2.06-.94-2.06-.94-.94-2.06-.94 2.06-2.06.94zm-11 1L8.5 8.5l.94-2.06 2.06-.94-2.06-.94L8.5 2.5l-.94 2.06-2.06.94zm10 10l.94 2.06.94-2.06 2.06-.94-2.06-.94-.94-2.06-.94 2.06-2.06.94z\"/><path d=\"M17.41 7.96l-1.37-1.37c-.4-.4-.92-.59-1.43-.59-.52 0-1.04.2-1.43.59L10.3 9.45l-7.72 7.72c-.78.78-.78 2.05 0 2.83L4 21.41c.39.39.9.59 1.41.59.51 0 1.02-.2 1.41-.59l7.78-7.78 2.81-2.81c.8-.78.8-2.07 0-2.86zM5.41 20L4 18.59l7.72-7.72 1.47 1.35L5.41 20z\"/>\n",
              "  </svg>\n",
              "      </button>\n",
              "      \n",
              "  <style>\n",
              "    .colab-df-container {\n",
              "      display:flex;\n",
              "      flex-wrap:wrap;\n",
              "      gap: 12px;\n",
              "    }\n",
              "\n",
              "    .colab-df-convert {\n",
              "      background-color: #E8F0FE;\n",
              "      border: none;\n",
              "      border-radius: 50%;\n",
              "      cursor: pointer;\n",
              "      display: none;\n",
              "      fill: #1967D2;\n",
              "      height: 32px;\n",
              "      padding: 0 0 0 0;\n",
              "      width: 32px;\n",
              "    }\n",
              "\n",
              "    .colab-df-convert:hover {\n",
              "      background-color: #E2EBFA;\n",
              "      box-shadow: 0px 1px 2px rgba(60, 64, 67, 0.3), 0px 1px 3px 1px rgba(60, 64, 67, 0.15);\n",
              "      fill: #174EA6;\n",
              "    }\n",
              "\n",
              "    [theme=dark] .colab-df-convert {\n",
              "      background-color: #3B4455;\n",
              "      fill: #D2E3FC;\n",
              "    }\n",
              "\n",
              "    [theme=dark] .colab-df-convert:hover {\n",
              "      background-color: #434B5C;\n",
              "      box-shadow: 0px 1px 3px 1px rgba(0, 0, 0, 0.15);\n",
              "      filter: drop-shadow(0px 1px 2px rgba(0, 0, 0, 0.3));\n",
              "      fill: #FFFFFF;\n",
              "    }\n",
              "  </style>\n",
              "\n",
              "      <script>\n",
              "        const buttonEl =\n",
              "          document.querySelector('#df-4c3aeb2f-774a-41d8-a842-99626a4ee033 button.colab-df-convert');\n",
              "        buttonEl.style.display =\n",
              "          google.colab.kernel.accessAllowed ? 'block' : 'none';\n",
              "\n",
              "        async function convertToInteractive(key) {\n",
              "          const element = document.querySelector('#df-4c3aeb2f-774a-41d8-a842-99626a4ee033');\n",
              "          const dataTable =\n",
              "            await google.colab.kernel.invokeFunction('convertToInteractive',\n",
              "                                                     [key], {});\n",
              "          if (!dataTable) return;\n",
              "\n",
              "          const docLinkHtml = 'Like what you see? Visit the ' +\n",
              "            '<a target=\"_blank\" href=https://colab.research.google.com/notebooks/data_table.ipynb>data table notebook</a>'\n",
              "            + ' to learn more about interactive tables.';\n",
              "          element.innerHTML = '';\n",
              "          dataTable['output_type'] = 'display_data';\n",
              "          await google.colab.output.renderOutput(dataTable, element);\n",
              "          const docLink = document.createElement('div');\n",
              "          docLink.innerHTML = docLinkHtml;\n",
              "          element.appendChild(docLink);\n",
              "        }\n",
              "      </script>\n",
              "    </div>\n",
              "  </div>\n",
              "  "
            ]
          },
          "metadata": {},
          "execution_count": 203
        }
      ]
    },
    {
      "cell_type": "code",
      "source": [
        "data[\"あらすじ\"][0]"
      ],
      "metadata": {
        "colab": {
          "base_uri": "https://localhost:8080/",
          "height": 393
        },
        "id": "Y4dKr8yhRoYA",
        "outputId": "54d7a53d-96c1-412f-a28b-5b4d77535381"
      },
      "execution_count": 4,
      "outputs": [
        {
          "output_type": "execute_result",
          "data": {
            "text/plain": [
              "'1947年、メイン州ポートランド。若くして銀行副頭取を務める優秀な銀行員アンドリュー・デュフレーン （アンディ）は、妻とその愛人を射殺した罪に問われる。無実を訴えるも終身刑の判決が下り、劣悪なショーシャンク刑務所への服役が決まる。ショーシャンクでは、長年服役する「調達屋」ことエリス・ボイド・レディング（レッド）が、もう何度目かとなる仮釈放の審査を受け、更生したことを訴えるがやはり却下される。レッドが落胆し部屋を出ると、アンディを含む新しい受刑者達が護送されて来る。アンディら新入り達はノートン所長とハドリー主任刑務官から脅しを含めたショーシャンク刑務所の紹介をされ、その晩に取り乱した一人の新人受刑者がハドリーから過剰暴力を受けて死んでしまう。\\n孤立していたアンディはやがてレッドに声をかけ、鉱物採集の趣味のため小さなロックハンマーを注文する。それをきっかけにアンディはレッドと交友を重ね始める。他方、アンディは荒くれ者のボグズとその一味に性行為を強要され、抵抗のため常に生傷が絶えない生活が続いた。\\n1949年、アンディは屋根の修理作業中、ハドリーの遺産相続問題を知り、財務経理の知識を駆使し作業仲間達へのビールと引き換えに解決策を提案する。ビールを手に入れ仲間達から尊敬される一方で、ハドリーら刑務官からも一目置かれるようになる。その後ボグズらがアンディを襲って全治1ヶ月の重傷を負わせるも、彼はハドリーに半殺しにされ、以後、アンディを襲う者はいなくなる。アンディが治療を終え自分の房に戻ってくると、レッドに注文していたリタ・ヘイワースの大判ポスターが退院祝いとして置かれていた。\\nやがて、アンディは図書係に配置換えとなり、もう50年も服役している老囚人ブルックスの助手となる。だが、その本当の目的は所長や刑務官達の税務処理や資産運用をアンディに行わせるためだった。アンディは有能な銀行家としての手腕を発揮する一方で、名ばかりだった図書係としても精力的に活動を始め、州議会に図書館予算の請求を毎週送るようになる。\\n1954年、ブルックスに仮釈放の許可が下りるが、50年服役した老人は塀の外の生活への恐れから取り乱す。アンディらに説得され、仮釈放を受け入れるが、結局、外の生活に馴染むことはできず、最期は首を吊って死んでしまう。死の間際に送られた感謝の手紙を読んでアンディとレッドは苛まれる。一方、手紙に根負けした州議会はわずかばかりの寄付金と古書をショーシャンク刑務所に送ってくる。アンディは送られてきた荷物の中に『フィガロの結婚』（第3幕『手紙の二重唱』）のレコードを見つけ、それを勝手に所内放送で流したことで懲罰房送りとなる。その後、仲間達からレコードを流した理由を尋ねられ、アンディは「音楽と希望は誰にも奪えないものだ」と説明するが、レッドは「そんなもの（希望）は塀の中じゃ危険だ」と反論する。\\n1963年、アンディが州議会にさらに手紙を送り続けた結果、年度毎の予算まで獲得し、倉庫同然だった図書館は囚人達の娯楽と教養を得る場となっていた。その頃所長は、囚人達の社会更生を図るという名目で、彼らを労働力として野外作業をさせ始め、裏ではそのピンハネや土建業者達からの賄賂を受け取り始める。そしてアンディは「ランドール・スティーブンス」という架空の人物を作り出し、その多額の不正蓄財を見事に隠蔽していた。\\n1965年、新たに入所したコソ泥の青年トミーは、すぐにレッドの仲間達と打ち解け、アンディも彼を気に入る。更生を望むトミーにアンディは文字の読み書きから勉強を教え始め、やがて高校卒業資格を申請するにまで至る。トミーはアンディの過去を知ると、その真犯人に心当たりがあることを話す。アンディは所長に再審請求したいと頼み込むが、優秀な経理担当者であると同時に不正蓄財を知っている彼を自由にさせる気のない所長は、アンディを懲罰房に入れ考えを改めるよう迫る。1ヶ月経っても折れないアンディに業を煮やした所長は、冤罪証明の鍵を握るトミーを脱走を企てたとして射殺してしまう。\\nトミーの死から1ヶ月後、アンディは再び不正経理を行うことを条件に懲罰房から出される。しかし、アンディの様子はどこかおかしく、メキシコのジワタネホ（英語版）の話をしたり、レッドに要領を得ない伝言を残す。レッドら仲間達はアンディが自殺を考えていると疑い、嵐の晩に心配が募る。\\n翌朝の点呼の際、アンディが房から消えていることが発覚する。所長やハドリーもアンディの房に向かい、リタ・ヘイワースからマリリン・モンローへ、そしてラクエル・ウェルチへと代替わりしていたポスターの裏の壁に大穴が開いていることを見つけ出す。アンディは約20年間ロックハンマーで壁を掘り続け、ついに1966年、脱獄したのだった。アンディはその足で銀行に向かいスティーブンスに成りすまして所長の不正蓄財を引き出すと同時に告発状を新聞社へ送り、難なくメキシコへ逃亡する。そしてアンディの告発状によってハドリーは逮捕され、所長は拳銃自殺する。\\n間もなくレッドは服役40年目にしてようやく仮釈放されるが、ブルックスと同様に外の生活に順応できない。ブルックスと同じ悲劇への道を辿りかけるが、レッドはアンディの伝言を信じてメキシコのジワタネホへ向かう。そして、美しく青い海の浜で悠々自適の生活を送るアンディと再会し、喜びの抱擁を交わしたのだった。'"
            ],
            "application/vnd.google.colaboratory.intrinsic+json": {
              "type": "string"
            }
          },
          "metadata": {},
          "execution_count": 4
        }
      ]
    },
    {
      "cell_type": "code",
      "source": [
        "data.columns = [\"Title\", \"Summary\"]"
      ],
      "metadata": {
        "id": "WcbMK62WW4Si"
      },
      "execution_count": 16,
      "outputs": []
    },
    {
      "cell_type": "code",
      "source": [
        "data.columns"
      ],
      "metadata": {
        "colab": {
          "base_uri": "https://localhost:8080/"
        },
        "id": "SJ45Z-P6W78p",
        "outputId": "5f682933-66a7-4860-a3b4-52c7b09990e6"
      },
      "execution_count": 35,
      "outputs": [
        {
          "output_type": "execute_result",
          "data": {
            "text/plain": [
              "Index(['Title', 'Summary'], dtype='object')"
            ]
          },
          "metadata": {},
          "execution_count": 35
        }
      ]
    },
    {
      "cell_type": "code",
      "source": [
        "data.isnull().sum()"
      ],
      "metadata": {
        "colab": {
          "base_uri": "https://localhost:8080/"
        },
        "id": "rkiRUh2JR1oQ",
        "outputId": "8614d907-0260-4ac7-931c-8dd09db46b16"
      },
      "execution_count": 36,
      "outputs": [
        {
          "output_type": "execute_result",
          "data": {
            "text/plain": [
              "Title      0\n",
              "Summary    1\n",
              "dtype: int64"
            ]
          },
          "metadata": {},
          "execution_count": 36
        }
      ]
    },
    {
      "cell_type": "code",
      "source": [
        "data = data.dropna(axis=0)"
      ],
      "metadata": {
        "id": "8n3RzkE5SHmM"
      },
      "execution_count": 17,
      "outputs": []
    },
    {
      "cell_type": "code",
      "source": [
        "data.isnull().sum()"
      ],
      "metadata": {
        "colab": {
          "base_uri": "https://localhost:8080/"
        },
        "id": "PrPTIAwTSQs_",
        "outputId": "f47ae4d5-416b-4f11-9afc-f9d9505ecb4c"
      },
      "execution_count": 38,
      "outputs": [
        {
          "output_type": "execute_result",
          "data": {
            "text/plain": [
              "Title      0\n",
              "Summary    0\n",
              "dtype: int64"
            ]
          },
          "metadata": {},
          "execution_count": 38
        }
      ]
    },
    {
      "cell_type": "code",
      "source": [
        "data.shape"
      ],
      "metadata": {
        "colab": {
          "base_uri": "https://localhost:8080/"
        },
        "id": "AiYcUJg8SSgA",
        "outputId": "2024e32e-3b8f-42f0-8a2c-8eba9b082630"
      },
      "execution_count": 39,
      "outputs": [
        {
          "output_type": "execute_result",
          "data": {
            "text/plain": [
              "(99, 2)"
            ]
          },
          "metadata": {},
          "execution_count": 39
        }
      ]
    },
    {
      "cell_type": "code",
      "source": [
        "data.dtypes"
      ],
      "metadata": {
        "colab": {
          "base_uri": "https://localhost:8080/"
        },
        "id": "zpGv_gogSVD9",
        "outputId": "dcb476f5-59b8-41c3-dc8a-55e580f2cd61"
      },
      "execution_count": 40,
      "outputs": [
        {
          "output_type": "execute_result",
          "data": {
            "text/plain": [
              "Title      object\n",
              "Summary    object\n",
              "dtype: object"
            ]
          },
          "metadata": {},
          "execution_count": 40
        }
      ]
    },
    {
      "cell_type": "markdown",
      "source": [
        "## Data Processing"
      ],
      "metadata": {
        "id": "viBtgQ1_S52F"
      }
    },
    {
      "cell_type": "code",
      "source": [
        "!pip install mecab-python3"
      ],
      "metadata": {
        "colab": {
          "base_uri": "https://localhost:8080/"
        },
        "id": "SWr2MJv5S7cJ",
        "outputId": "823f8012-7177-467c-a3b6-b5c9174991df"
      },
      "execution_count": 12,
      "outputs": [
        {
          "output_type": "stream",
          "name": "stdout",
          "text": [
            "Looking in indexes: https://pypi.org/simple, https://us-python.pkg.dev/colab-wheels/public/simple/\n",
            "Requirement already satisfied: mecab-python3 in /usr/local/lib/python3.7/dist-packages (1.0.5)\n"
          ]
        }
      ]
    },
    {
      "cell_type": "code",
      "source": [
        "#dictionary\n",
        "!pip install unidic-lite"
      ],
      "metadata": {
        "colab": {
          "base_uri": "https://localhost:8080/"
        },
        "id": "bRUFJNwLTA68",
        "outputId": "40b6a51d-166e-4460-8e9e-21b2a2b88c88"
      },
      "execution_count": 13,
      "outputs": [
        {
          "output_type": "stream",
          "name": "stdout",
          "text": [
            "Looking in indexes: https://pypi.org/simple, https://us-python.pkg.dev/colab-wheels/public/simple/\n",
            "Requirement already satisfied: unidic-lite in /usr/local/lib/python3.7/dist-packages (1.0.8)\n"
          ]
        }
      ]
    },
    {
      "cell_type": "code",
      "source": [
        "!pip install spacy[ja]"
      ],
      "metadata": {
        "colab": {
          "base_uri": "https://localhost:8080/"
        },
        "id": "o5H53hM3Xdw9",
        "outputId": "a9d2bfad-7c7f-44f1-cbca-98fec7f55cd3"
      },
      "execution_count": 14,
      "outputs": [
        {
          "output_type": "stream",
          "name": "stdout",
          "text": [
            "Looking in indexes: https://pypi.org/simple, https://us-python.pkg.dev/colab-wheels/public/simple/\n",
            "Requirement already satisfied: spacy[ja] in /usr/local/lib/python3.7/dist-packages (3.2.4)\n",
            "Requirement already satisfied: wasabi<1.1.0,>=0.8.1 in /usr/local/lib/python3.7/dist-packages (from spacy[ja]) (0.10.1)\n",
            "Requirement already satisfied: preshed<3.1.0,>=3.0.2 in /usr/local/lib/python3.7/dist-packages (from spacy[ja]) (3.0.7)\n",
            "Requirement already satisfied: cymem<2.1.0,>=2.0.2 in /usr/local/lib/python3.7/dist-packages (from spacy[ja]) (2.0.6)\n",
            "Requirement already satisfied: pathy>=0.3.5 in /usr/local/lib/python3.7/dist-packages (from spacy[ja]) (0.6.2)\n",
            "Requirement already satisfied: murmurhash<1.1.0,>=0.28.0 in /usr/local/lib/python3.7/dist-packages (from spacy[ja]) (1.0.8)\n",
            "Requirement already satisfied: pydantic!=1.8,!=1.8.1,<1.9.0,>=1.7.4 in /usr/local/lib/python3.7/dist-packages (from spacy[ja]) (1.8.2)\n",
            "Requirement already satisfied: srsly<3.0.0,>=2.4.1 in /usr/local/lib/python3.7/dist-packages (from spacy[ja]) (2.4.4)\n",
            "Requirement already satisfied: click<8.1.0 in /usr/local/lib/python3.7/dist-packages (from spacy[ja]) (7.1.2)\n",
            "Requirement already satisfied: typing-extensions<4.0.0.0,>=3.7.4 in /usr/local/lib/python3.7/dist-packages (from spacy[ja]) (3.10.0.2)\n",
            "Requirement already satisfied: langcodes<4.0.0,>=3.2.0 in /usr/local/lib/python3.7/dist-packages (from spacy[ja]) (3.3.0)\n",
            "Requirement already satisfied: blis<0.8.0,>=0.4.0 in /usr/local/lib/python3.7/dist-packages (from spacy[ja]) (0.7.8)\n",
            "Requirement already satisfied: tqdm<5.0.0,>=4.38.0 in /usr/local/lib/python3.7/dist-packages (from spacy[ja]) (4.64.1)\n",
            "Requirement already satisfied: setuptools in /usr/local/lib/python3.7/dist-packages (from spacy[ja]) (57.4.0)\n",
            "Requirement already satisfied: thinc<8.1.0,>=8.0.12 in /usr/local/lib/python3.7/dist-packages (from spacy[ja]) (8.0.17)\n",
            "Requirement already satisfied: jinja2 in /usr/local/lib/python3.7/dist-packages (from spacy[ja]) (2.11.3)\n",
            "Requirement already satisfied: spacy-loggers<2.0.0,>=1.0.0 in /usr/local/lib/python3.7/dist-packages (from spacy[ja]) (1.0.3)\n",
            "Requirement already satisfied: packaging>=20.0 in /usr/local/lib/python3.7/dist-packages (from spacy[ja]) (21.3)\n",
            "Requirement already satisfied: spacy-legacy<3.1.0,>=3.0.8 in /usr/local/lib/python3.7/dist-packages (from spacy[ja]) (3.0.10)\n",
            "Requirement already satisfied: numpy>=1.15.0 in /usr/local/lib/python3.7/dist-packages (from spacy[ja]) (1.21.6)\n",
            "Requirement already satisfied: requests<3.0.0,>=2.13.0 in /usr/local/lib/python3.7/dist-packages (from spacy[ja]) (2.23.0)\n",
            "Requirement already satisfied: catalogue<2.1.0,>=2.0.6 in /usr/local/lib/python3.7/dist-packages (from spacy[ja]) (2.0.8)\n",
            "Requirement already satisfied: typer<0.5.0,>=0.3.0 in /usr/local/lib/python3.7/dist-packages (from spacy[ja]) (0.4.2)\n",
            "Requirement already satisfied: sudachipy!=0.6.1,>=0.5.2 in /usr/local/lib/python3.7/dist-packages (from spacy[ja]) (0.6.6)\n",
            "Requirement already satisfied: sudachidict-core>=20211220 in /usr/local/lib/python3.7/dist-packages (from spacy[ja]) (20220729)\n",
            "Requirement already satisfied: zipp>=0.5 in /usr/local/lib/python3.7/dist-packages (from catalogue<2.1.0,>=2.0.6->spacy[ja]) (3.8.1)\n",
            "Requirement already satisfied: pyparsing!=3.0.5,>=2.0.2 in /usr/local/lib/python3.7/dist-packages (from packaging>=20.0->spacy[ja]) (3.0.9)\n",
            "Requirement already satisfied: smart-open<6.0.0,>=5.2.1 in /usr/local/lib/python3.7/dist-packages (from pathy>=0.3.5->spacy[ja]) (5.2.1)\n",
            "Requirement already satisfied: certifi>=2017.4.17 in /usr/local/lib/python3.7/dist-packages (from requests<3.0.0,>=2.13.0->spacy[ja]) (2022.6.15)\n",
            "Requirement already satisfied: urllib3!=1.25.0,!=1.25.1,<1.26,>=1.21.1 in /usr/local/lib/python3.7/dist-packages (from requests<3.0.0,>=2.13.0->spacy[ja]) (1.24.3)\n",
            "Requirement already satisfied: idna<3,>=2.5 in /usr/local/lib/python3.7/dist-packages (from requests<3.0.0,>=2.13.0->spacy[ja]) (2.10)\n",
            "Requirement already satisfied: chardet<4,>=3.0.2 in /usr/local/lib/python3.7/dist-packages (from requests<3.0.0,>=2.13.0->spacy[ja]) (3.0.4)\n",
            "Requirement already satisfied: MarkupSafe>=0.23 in /usr/local/lib/python3.7/dist-packages (from jinja2->spacy[ja]) (2.0.1)\n"
          ]
        }
      ]
    },
    {
      "cell_type": "code",
      "source": [
        "!pip install neologdn"
      ],
      "metadata": {
        "colab": {
          "base_uri": "https://localhost:8080/"
        },
        "id": "u8FQNA2QYJ-8",
        "outputId": "20ca94db-b6e2-4b24-fd46-23856d4f7a28"
      },
      "execution_count": 15,
      "outputs": [
        {
          "output_type": "stream",
          "name": "stdout",
          "text": [
            "Looking in indexes: https://pypi.org/simple, https://us-python.pkg.dev/colab-wheels/public/simple/\n",
            "Requirement already satisfied: neologdn in /usr/local/lib/python3.7/dist-packages (0.5.1)\n"
          ]
        }
      ]
    },
    {
      "cell_type": "code",
      "source": [
        "!pip install -U ginza ja-ginza"
      ],
      "metadata": {
        "colab": {
          "base_uri": "https://localhost:8080/"
        },
        "id": "FdOD_iGL6tZM",
        "outputId": "598d3b50-c4ba-45b1-d814-ee6cdcdca32d"
      },
      "execution_count": 42,
      "outputs": [
        {
          "output_type": "stream",
          "name": "stdout",
          "text": [
            "Looking in indexes: https://pypi.org/simple, https://us-python.pkg.dev/colab-wheels/public/simple/\n",
            "Requirement already satisfied: ginza in /usr/local/lib/python3.7/dist-packages (5.1.1)\n",
            "Collecting ginza\n",
            "  Downloading ginza-5.1.2-py3-none-any.whl (20 kB)\n",
            "Collecting ja-ginza\n",
            "  Downloading ja_ginza-5.1.2-py3-none-any.whl (59.1 MB)\n",
            "\u001b[K     |████████████████████████████████| 59.1 MB 1.3 MB/s \n",
            "\u001b[?25hRequirement already satisfied: plac>=1.3.3 in /usr/local/lib/python3.7/dist-packages (from ginza) (1.3.5)\n",
            "Requirement already satisfied: spacy<3.5.0,>=3.2.0 in /usr/local/lib/python3.7/dist-packages (from ginza) (3.2.4)\n",
            "Requirement already satisfied: SudachiPy<0.7.0,>=0.6.2 in /usr/local/lib/python3.7/dist-packages (from ginza) (0.6.6)\n",
            "Requirement already satisfied: SudachiDict-core>=20210802 in /usr/local/lib/python3.7/dist-packages (from ginza) (20220729)\n",
            "Requirement already satisfied: spacy-legacy<3.1.0,>=3.0.8 in /usr/local/lib/python3.7/dist-packages (from spacy<3.5.0,>=3.2.0->ginza) (3.0.10)\n",
            "Requirement already satisfied: blis<0.8.0,>=0.4.0 in /usr/local/lib/python3.7/dist-packages (from spacy<3.5.0,>=3.2.0->ginza) (0.7.8)\n",
            "Requirement already satisfied: requests<3.0.0,>=2.13.0 in /usr/local/lib/python3.7/dist-packages (from spacy<3.5.0,>=3.2.0->ginza) (2.23.0)\n",
            "Requirement already satisfied: preshed<3.1.0,>=3.0.2 in /usr/local/lib/python3.7/dist-packages (from spacy<3.5.0,>=3.2.0->ginza) (3.0.7)\n",
            "Requirement already satisfied: click<8.1.0 in /usr/local/lib/python3.7/dist-packages (from spacy<3.5.0,>=3.2.0->ginza) (7.1.2)\n",
            "Requirement already satisfied: cymem<2.1.0,>=2.0.2 in /usr/local/lib/python3.7/dist-packages (from spacy<3.5.0,>=3.2.0->ginza) (2.0.6)\n",
            "Requirement already satisfied: wasabi<1.1.0,>=0.8.1 in /usr/local/lib/python3.7/dist-packages (from spacy<3.5.0,>=3.2.0->ginza) (0.10.1)\n",
            "Requirement already satisfied: murmurhash<1.1.0,>=0.28.0 in /usr/local/lib/python3.7/dist-packages (from spacy<3.5.0,>=3.2.0->ginza) (1.0.8)\n",
            "Requirement already satisfied: spacy-loggers<2.0.0,>=1.0.0 in /usr/local/lib/python3.7/dist-packages (from spacy<3.5.0,>=3.2.0->ginza) (1.0.3)\n",
            "Requirement already satisfied: numpy>=1.15.0 in /usr/local/lib/python3.7/dist-packages (from spacy<3.5.0,>=3.2.0->ginza) (1.21.6)\n",
            "Requirement already satisfied: packaging>=20.0 in /usr/local/lib/python3.7/dist-packages (from spacy<3.5.0,>=3.2.0->ginza) (21.3)\n",
            "Requirement already satisfied: setuptools in /usr/local/lib/python3.7/dist-packages (from spacy<3.5.0,>=3.2.0->ginza) (57.4.0)\n",
            "Requirement already satisfied: tqdm<5.0.0,>=4.38.0 in /usr/local/lib/python3.7/dist-packages (from spacy<3.5.0,>=3.2.0->ginza) (4.64.1)\n",
            "Requirement already satisfied: catalogue<2.1.0,>=2.0.6 in /usr/local/lib/python3.7/dist-packages (from spacy<3.5.0,>=3.2.0->ginza) (2.0.8)\n",
            "Requirement already satisfied: srsly<3.0.0,>=2.4.1 in /usr/local/lib/python3.7/dist-packages (from spacy<3.5.0,>=3.2.0->ginza) (2.4.4)\n",
            "Requirement already satisfied: typing-extensions<4.0.0.0,>=3.7.4 in /usr/local/lib/python3.7/dist-packages (from spacy<3.5.0,>=3.2.0->ginza) (3.10.0.2)\n",
            "Requirement already satisfied: typer<0.5.0,>=0.3.0 in /usr/local/lib/python3.7/dist-packages (from spacy<3.5.0,>=3.2.0->ginza) (0.4.2)\n",
            "Requirement already satisfied: langcodes<4.0.0,>=3.2.0 in /usr/local/lib/python3.7/dist-packages (from spacy<3.5.0,>=3.2.0->ginza) (3.3.0)\n",
            "Requirement already satisfied: pydantic!=1.8,!=1.8.1,<1.9.0,>=1.7.4 in /usr/local/lib/python3.7/dist-packages (from spacy<3.5.0,>=3.2.0->ginza) (1.8.2)\n",
            "Requirement already satisfied: pathy>=0.3.5 in /usr/local/lib/python3.7/dist-packages (from spacy<3.5.0,>=3.2.0->ginza) (0.6.2)\n",
            "Requirement already satisfied: thinc<8.1.0,>=8.0.12 in /usr/local/lib/python3.7/dist-packages (from spacy<3.5.0,>=3.2.0->ginza) (8.0.17)\n",
            "Requirement already satisfied: jinja2 in /usr/local/lib/python3.7/dist-packages (from spacy<3.5.0,>=3.2.0->ginza) (2.11.3)\n",
            "Requirement already satisfied: zipp>=0.5 in /usr/local/lib/python3.7/dist-packages (from catalogue<2.1.0,>=2.0.6->spacy<3.5.0,>=3.2.0->ginza) (3.8.1)\n",
            "Requirement already satisfied: pyparsing!=3.0.5,>=2.0.2 in /usr/local/lib/python3.7/dist-packages (from packaging>=20.0->spacy<3.5.0,>=3.2.0->ginza) (3.0.9)\n",
            "Requirement already satisfied: smart-open<6.0.0,>=5.2.1 in /usr/local/lib/python3.7/dist-packages (from pathy>=0.3.5->spacy<3.5.0,>=3.2.0->ginza) (5.2.1)\n",
            "Requirement already satisfied: urllib3!=1.25.0,!=1.25.1,<1.26,>=1.21.1 in /usr/local/lib/python3.7/dist-packages (from requests<3.0.0,>=2.13.0->spacy<3.5.0,>=3.2.0->ginza) (1.24.3)\n",
            "Requirement already satisfied: certifi>=2017.4.17 in /usr/local/lib/python3.7/dist-packages (from requests<3.0.0,>=2.13.0->spacy<3.5.0,>=3.2.0->ginza) (2022.6.15)\n",
            "Requirement already satisfied: idna<3,>=2.5 in /usr/local/lib/python3.7/dist-packages (from requests<3.0.0,>=2.13.0->spacy<3.5.0,>=3.2.0->ginza) (2.10)\n",
            "Requirement already satisfied: chardet<4,>=3.0.2 in /usr/local/lib/python3.7/dist-packages (from requests<3.0.0,>=2.13.0->spacy<3.5.0,>=3.2.0->ginza) (3.0.4)\n",
            "Requirement already satisfied: MarkupSafe>=0.23 in /usr/local/lib/python3.7/dist-packages (from jinja2->spacy<3.5.0,>=3.2.0->ginza) (2.0.1)\n",
            "Installing collected packages: ginza, ja-ginza\n",
            "  Attempting uninstall: ginza\n",
            "    Found existing installation: ginza 5.1.1\n",
            "    Uninstalling ginza-5.1.1:\n",
            "      Successfully uninstalled ginza-5.1.1\n",
            "Successfully installed ginza-5.1.2 ja-ginza-5.1.2\n"
          ]
        }
      ]
    },
    {
      "cell_type": "code",
      "source": [
        "import MeCab\n",
        "import spacy\n",
        "from spacy.lang.ja import Japanese\n",
        "from spacy import displacy\n",
        "import neologdn\n",
        "import pkg_resources, imp"
      ],
      "metadata": {
        "id": "HaKq7K57TTMv"
      },
      "execution_count": 24,
      "outputs": []
    },
    {
      "cell_type": "code",
      "source": [
        "nlp = spacy.load('ja_ginza')"
      ],
      "metadata": {
        "id": "7oh1_Uaz5hvi"
      },
      "execution_count": 6,
      "outputs": []
    },
    {
      "cell_type": "code",
      "source": [
        "wakati = MeCab.Tagger(\"-Owakati\")"
      ],
      "metadata": {
        "id": "s4haQ9fVTYli"
      },
      "execution_count": 7,
      "outputs": []
    },
    {
      "cell_type": "code",
      "source": [
        "title = wakati.parse(data[\"Title\"][0]).split()"
      ],
      "metadata": {
        "id": "ix_O-vURTjUh"
      },
      "execution_count": 25,
      "outputs": []
    },
    {
      "cell_type": "code",
      "source": [
        "title"
      ],
      "metadata": {
        "colab": {
          "base_uri": "https://localhost:8080/"
        },
        "id": "a9kb9HtPTslg",
        "outputId": "096d8262-34d6-4498-9820-eae6c522a9f6"
      },
      "execution_count": 26,
      "outputs": [
        {
          "output_type": "execute_result",
          "data": {
            "text/plain": [
              "['ショーシャンク', 'の', '空', 'に']"
            ]
          },
          "metadata": {},
          "execution_count": 26
        }
      ]
    },
    {
      "cell_type": "code",
      "source": [
        "title = \" \".join(title)"
      ],
      "metadata": {
        "id": "n1phlqBwAuEO"
      },
      "execution_count": 27,
      "outputs": []
    },
    {
      "cell_type": "code",
      "source": [
        "title"
      ],
      "metadata": {
        "colab": {
          "base_uri": "https://localhost:8080/",
          "height": 35
        },
        "id": "bo70ugDzA16k",
        "outputId": "2dc0ea9f-8e31-4dc2-fb58-021bec9486e0"
      },
      "execution_count": 28,
      "outputs": [
        {
          "output_type": "execute_result",
          "data": {
            "text/plain": [
              "'ショーシャンク の 空 に'"
            ],
            "application/vnd.google.colaboratory.intrinsic+json": {
              "type": "string"
            }
          },
          "metadata": {},
          "execution_count": 28
        }
      ]
    },
    {
      "cell_type": "code",
      "source": [
        "title = neologdn.normalize(title)"
      ],
      "metadata": {
        "id": "gWcU1d42Aizq"
      },
      "execution_count": 29,
      "outputs": []
    },
    {
      "cell_type": "code",
      "source": [
        "title"
      ],
      "metadata": {
        "colab": {
          "base_uri": "https://localhost:8080/",
          "height": 35
        },
        "id": "qWfIBUoDA5VV",
        "outputId": "db6e60f0-3a89-4c26-99f1-376fa88e440f"
      },
      "execution_count": 30,
      "outputs": [
        {
          "output_type": "execute_result",
          "data": {
            "text/plain": [
              "'ショーシャンクの空に'"
            ],
            "application/vnd.google.colaboratory.intrinsic+json": {
              "type": "string"
            }
          },
          "metadata": {},
          "execution_count": 30
        }
      ]
    },
    {
      "cell_type": "code",
      "source": [
        "nlp = Japanese()\n",
        "\n",
        "doc = nlp(title)\n",
        "for token in doc:\n",
        "  print(token.text)\n"
      ],
      "metadata": {
        "colab": {
          "base_uri": "https://localhost:8080/"
        },
        "id": "L5Z1vtIVP8S0",
        "outputId": "9f259dce-c6e0-4694-ec52-ab686a993b5a"
      },
      "execution_count": 33,
      "outputs": [
        {
          "output_type": "stream",
          "name": "stdout",
          "text": [
            "ショーシャンク\n",
            "の\n",
            "空\n",
            "に\n"
          ]
        }
      ]
    },
    {
      "cell_type": "code",
      "source": [
        "print([t.text for t in doc])\n",
        "print([t.lemma_ for t in doc])\n",
        "print([t.pos_ for t in doc])"
      ],
      "metadata": {
        "colab": {
          "base_uri": "https://localhost:8080/"
        },
        "id": "p9UiRXAHQ6Az",
        "outputId": "d49ef0c5-d1d0-4274-de6a-256975d012d7"
      },
      "execution_count": 34,
      "outputs": [
        {
          "output_type": "stream",
          "name": "stdout",
          "text": [
            "['ショーシャンク', 'の', '空', 'に']\n",
            "['ショーシャンク', 'の', '空', 'に']\n",
            "['PROPN', 'ADP', 'NOUN', 'ADP']\n"
          ]
        }
      ]
    },
    {
      "cell_type": "code",
      "source": [
        "def ja_preprocess(text):\n",
        "    nlp = Japanese()\n",
        "    text = text[:500]\n",
        "    text = BeautifulSoup(text).get_text()\n",
        "    text = text.lower()\n",
        "    text = neologdn.normalize(text)\n",
        "    text = nlp(text)\n",
        "    return text"
      ],
      "metadata": {
        "id": "ZYMPCOfkX09r"
      },
      "execution_count": 41,
      "outputs": []
    },
    {
      "cell_type": "code",
      "source": [
        "summary = data[\"Summary\"].apply(lambda x: ja_preprocess(x))"
      ],
      "metadata": {
        "id": "XxIcy7iFZfNo"
      },
      "execution_count": 43,
      "outputs": []
    },
    {
      "cell_type": "code",
      "source": [
        "summary[0]"
      ],
      "metadata": {
        "colab": {
          "base_uri": "https://localhost:8080/"
        },
        "id": "bEWyvPZHS1w2",
        "outputId": "fb74aabd-1e98-4ac7-bc56-59f84f51e7f3"
      },
      "execution_count": 51,
      "outputs": [
        {
          "output_type": "execute_result",
          "data": {
            "text/plain": [
              "1947年、メイン州ポートランド。若くして銀行副頭取を務める優秀な銀行員アンドリュー・デュフレーン(アンディ)は、妻とその愛人を射殺した罪に問われる。無実を訴えるも終身刑の判決が下り、劣悪なショーシャンク刑務所への服役が決まる。ショーシャンクでは、長年服役する「調達屋」ことエリス・ボイド・レディング(レッド)が、もう何度目かとなる仮釈放の審査を受け、更生したことを訴えるがやはり却下される。レッドが落胆し部屋を出ると、アンディを含む新しい受刑者達が護送されて来る。アンディら新入り達はノートン所長とハドリー主任刑務官から脅しを含めたショーシャンク刑務所の紹介をされ、その晩に取り乱した一人の新人受刑者がハドリーから過剰暴力を受けて死んでしまう。\n",
              "孤立していたアンディはやがてレッドに声をかけ、鉱物採集の趣味のため小さなロックハンマーを注文する。それをきっかけにアンディはレッドと交友を重ね始める。他方、アンディは荒くれ者のボグズとその一味に性行為を強要され、抵抗のため常に生傷が絶えない生活が続いた。\n",
              "1949年、アンディは屋根の修理作業中、ハドリーの遺産相続問題を知り、財務経理の知識を駆使し作"
            ]
          },
          "metadata": {},
          "execution_count": 51
        }
      ]
    },
    {
      "cell_type": "code",
      "source": [
        "print([token.text for token in summary[0][:10]])\n",
        "print([token.pos_ for token in summary[0][:10]])"
      ],
      "metadata": {
        "id": "hlfszWNKZ7_K",
        "colab": {
          "base_uri": "https://localhost:8080/"
        },
        "outputId": "ae787306-06a5-46c8-d2e8-03cdfd1343dd"
      },
      "execution_count": 49,
      "outputs": [
        {
          "output_type": "stream",
          "name": "stdout",
          "text": [
            "['1947', '年', '、', 'メイン', '州', 'ポートランド', '。', '若く', 'し', 'て']\n",
            "['NUM', 'NOUN', 'PUNCT', 'PROPN', 'NOUN', 'PROPN', 'PUNCT', 'ADJ', 'VERB', 'SCONJ']\n"
          ]
        }
      ]
    },
    {
      "cell_type": "code",
      "source": [
        "summary"
      ],
      "metadata": {
        "colab": {
          "base_uri": "https://localhost:8080/"
        },
        "id": "VxxiOTztOUjk",
        "outputId": "ae159827-84f2-4cf3-b342-beb48e7ebbcd"
      },
      "execution_count": 85,
      "outputs": [
        {
          "output_type": "execute_result",
          "data": {
            "text/plain": [
              "0     (1947, 年, 、, メイン, 州, ポートランド, 。, 若く, し, て, 銀行, ...\n",
              "1     (第, 二, 次, 世界, 大戦, 終戦, 直後, の, 1945, 年, 。, ニューヨー...\n",
              "2     (素性, 不明, の, 犯罪, 者, ジョーカー, に, 雇わ, れ, た, 、, 道化, ...\n",
              "3     (昼, なお, 暗い, モルドール, の, 山, 。, フロド, が, 眠る, 隣, で, ...\n",
              "4     (1939, 年, 9, 月, 、, ドイツ, 軍, に, より, ポーランド, が, 占領...\n",
              "                            ...                        \n",
              "94    (広告, 会社, の, 重役, ロジャー, ・, ソーンヒル, は, 、, ホテル, の, ...\n",
              "95    (「, スコティ, 」, こと, ジョン, ・, ファーガソン, 刑事, は, 、, 犯人,...\n",
              "96    (サイレント, 映画, 全盛, の, 時代, 、, 俳優, ドン, と, 大, 女優, リナ...\n",
              "97    (暗く, 荒廃, し, た, 大, 邸宅, 「, ザナドゥ, (, 英語, 版, ), 城,...\n",
              "98    (1930, 年, 代, の, ベルリン, で, 、, 幼い, 少女, ばかり, を, 狙っ...\n",
              "Name: Summary, Length: 99, dtype: object"
            ]
          },
          "metadata": {},
          "execution_count": 85
        }
      ]
    },
    {
      "cell_type": "code",
      "source": [
        "\"\"\"\n",
        "chars = sorted(list(set(summary[0])))\n",
        "\"\"\""
      ],
      "metadata": {
        "id": "knK-TjX7S7PF"
      },
      "execution_count": 143,
      "outputs": []
    },
    {
      "cell_type": "code",
      "source": [
        "summaries = []\n",
        "\n",
        "for item in summary:\n",
        "  summaries.append(item)"
      ],
      "metadata": {
        "id": "xCklDXqZznC4"
      },
      "execution_count": 146,
      "outputs": []
    },
    {
      "cell_type": "code",
      "source": [
        "flattened_summaries = []\n",
        "for sentences in summaries:\n",
        "  for chars in sentences:\n",
        "    flattened_summaries.append(chars)\n",
        "print(len(flattened_summaries))"
      ],
      "metadata": {
        "colab": {
          "base_uri": "https://localhost:8080/"
        },
        "id": "jLrZh7Fd1Xlm",
        "outputId": "cb95b82b-352c-41f5-bfcc-7da024193522"
      },
      "execution_count": 169,
      "outputs": [
        {
          "output_type": "stream",
          "name": "stdout",
          "text": [
            "27827\n"
          ]
        }
      ]
    },
    {
      "cell_type": "code",
      "source": [
        "chars = set(flattened_summaries)"
      ],
      "metadata": {
        "id": "SWtHazmA0dqC"
      },
      "execution_count": 172,
      "outputs": []
    },
    {
      "cell_type": "code",
      "source": [
        "len(chars)"
      ],
      "metadata": {
        "colab": {
          "base_uri": "https://localhost:8080/"
        },
        "id": "WuDee7Kg1tW3",
        "outputId": "714fb0c0-f7af-4bf9-db4d-5274c929c1d1"
      },
      "execution_count": 173,
      "outputs": [
        {
          "output_type": "execute_result",
          "data": {
            "text/plain": [
              "27827"
            ]
          },
          "metadata": {},
          "execution_count": 173
        }
      ]
    },
    {
      "cell_type": "code",
      "source": [
        "\"\"\"\n",
        "chars = sorted(chars)\n",
        "\"\"\""
      ],
      "metadata": {
        "colab": {
          "base_uri": "https://localhost:8080/",
          "height": 187
        },
        "id": "VbEcH8RB0gaG",
        "outputId": "991c7866-99bd-4bb7-a154-0550bd09f90a"
      },
      "execution_count": 160,
      "outputs": [
        {
          "output_type": "error",
          "ename": "TypeError",
          "evalue": "ignored",
          "traceback": [
            "\u001b[0;31m---------------------------------------------------------------------------\u001b[0m",
            "\u001b[0;31mTypeError\u001b[0m                                 Traceback (most recent call last)",
            "\u001b[0;32m<ipython-input-160-99ad3bf6fe19>\u001b[0m in \u001b[0;36m<module>\u001b[0;34m\u001b[0m\n\u001b[0;32m----> 1\u001b[0;31m \u001b[0mchars\u001b[0m \u001b[0;34m=\u001b[0m \u001b[0msorted\u001b[0m\u001b[0;34m(\u001b[0m\u001b[0mchars\u001b[0m\u001b[0;34m)\u001b[0m\u001b[0;34m\u001b[0m\u001b[0;34m\u001b[0m\u001b[0m\n\u001b[0m",
            "\u001b[0;31mTypeError\u001b[0m: '<' not supported between instances of 'spacy.tokens.doc.Doc' and 'spacy.tokens.doc.Doc'"
          ]
        }
      ]
    },
    {
      "cell_type": "code",
      "source": [
        "len(chars)"
      ],
      "metadata": {
        "colab": {
          "base_uri": "https://localhost:8080/"
        },
        "id": "IYGMyLceT4zM",
        "outputId": "5a52280c-5b93-4285-ad04-b4c1dcdb7203"
      },
      "execution_count": 163,
      "outputs": [
        {
          "output_type": "execute_result",
          "data": {
            "text/plain": [
              "99"
            ]
          },
          "metadata": {},
          "execution_count": 163
        }
      ]
    },
    {
      "cell_type": "code",
      "source": [
        "vocabulary = []\n",
        "\n",
        "for item in flattened_summaries:\n",
        "  if not item in vocabulary:\n",
        "    vocabulary.append(item)\n",
        "print(len(vocabulary))"
      ],
      "metadata": {
        "colab": {
          "base_uri": "https://localhost:8080/"
        },
        "id": "UADF1xdodiI2",
        "outputId": "7c5955b2-f795-434a-9844-4e3c1c14c306"
      },
      "execution_count": 174,
      "outputs": [
        {
          "output_type": "stream",
          "name": "stdout",
          "text": [
            "27827\n"
          ]
        }
      ]
    },
    {
      "cell_type": "code",
      "source": [
        "char_indices = dict((c, i) for i, c in enumerate(vocabulary))\n",
        "indices_char = (dict((i, c) for i, c in enumerate(vocabulary)))"
      ],
      "metadata": {
        "id": "UKWrY2fseUjo"
      },
      "execution_count": 175,
      "outputs": []
    },
    {
      "cell_type": "code",
      "source": [
        "maxlen = 8\n",
        "\n",
        "step = 1\n",
        "\n",
        "sentences = []\n",
        "\n",
        "next_chars = []\n",
        "\n",
        "for i in range(0, len(flattened_summaries) - maxlen, step):\n",
        "    sentences.append(flattened_summaries[i: i + maxlen])\n",
        "    next_chars.append(flattened_summaries[i + maxlen])\n",
        "    \n",
        "print(len(sentences))"
      ],
      "metadata": {
        "colab": {
          "base_uri": "https://localhost:8080/"
        },
        "id": "nwjgB8-yejmt",
        "outputId": "181d2c30-5d64-45f3-a643-0de6dc6b36d3"
      },
      "execution_count": 176,
      "outputs": [
        {
          "output_type": "stream",
          "name": "stdout",
          "text": [
            "27819\n"
          ]
        }
      ]
    },
    {
      "cell_type": "code",
      "source": [
        "sentences[:25]"
      ],
      "metadata": {
        "colab": {
          "base_uri": "https://localhost:8080/"
        },
        "id": "p66rjw1MxLbK",
        "outputId": "5b743976-f125-4ddb-b75e-9dd3a7d935ed"
      },
      "execution_count": 177,
      "outputs": [
        {
          "output_type": "execute_result",
          "data": {
            "text/plain": [
              "[[1947, 年, 、, メイン, 州, ポートランド, 。, 若く],\n",
              " [年, 、, メイン, 州, ポートランド, 。, 若く, し],\n",
              " [、, メイン, 州, ポートランド, 。, 若く, し, て],\n",
              " [メイン, 州, ポートランド, 。, 若く, し, て, 銀行],\n",
              " [州, ポートランド, 。, 若く, し, て, 銀行, 副],\n",
              " [ポートランド, 。, 若く, し, て, 銀行, 副, 頭取],\n",
              " [。, 若く, し, て, 銀行, 副, 頭取, を],\n",
              " [若く, し, て, 銀行, 副, 頭取, を, 務める],\n",
              " [し, て, 銀行, 副, 頭取, を, 務める, 優秀],\n",
              " [て, 銀行, 副, 頭取, を, 務める, 優秀, な],\n",
              " [銀行, 副, 頭取, を, 務める, 優秀, な, 銀行],\n",
              " [副, 頭取, を, 務める, 優秀, な, 銀行, 員],\n",
              " [頭取, を, 務める, 優秀, な, 銀行, 員, アンドリュー],\n",
              " [を, 務める, 優秀, な, 銀行, 員, アンドリュー, ・],\n",
              " [務める, 優秀, な, 銀行, 員, アンドリュー, ・, デュフレーン],\n",
              " [優秀, な, 銀行, 員, アンドリュー, ・, デュフレーン, (],\n",
              " [な, 銀行, 員, アンドリュー, ・, デュフレーン, (, アンディ],\n",
              " [銀行, 員, アンドリュー, ・, デュフレーン, (, アンディ, )],\n",
              " [員, アンドリュー, ・, デュフレーン, (, アンディ, ), は],\n",
              " [アンドリュー, ・, デュフレーン, (, アンディ, ), は, 、],\n",
              " [・, デュフレーン, (, アンディ, ), は, 、, 妻],\n",
              " [デュフレーン, (, アンディ, ), は, 、, 妻, と],\n",
              " [(, アンディ, ), は, 、, 妻, と, その],\n",
              " [アンディ, ), は, 、, 妻, と, その, 愛人],\n",
              " [), は, 、, 妻, と, その, 愛人, を]]"
            ]
          },
          "metadata": {},
          "execution_count": 177
        }
      ]
    },
    {
      "cell_type": "code",
      "source": [
        "#bag of words?"
      ],
      "metadata": {
        "id": "WNO7WX-Be_Vh"
      },
      "execution_count": null,
      "outputs": []
    },
    {
      "cell_type": "code",
      "source": [
        "x = np.zeros((len(sentences), maxlen, len(chars)), dtype=bool)\n",
        "y = np.zeros((len(sentences), len(chars)), dtype=bool)"
      ],
      "metadata": {
        "id": "eMzL8Z-Ivf7O"
      },
      "execution_count": 178,
      "outputs": []
    },
    {
      "cell_type": "code",
      "source": [
        "x[:3]"
      ],
      "metadata": {
        "colab": {
          "base_uri": "https://localhost:8080/"
        },
        "id": "pTukQWxWyQd3",
        "outputId": "6d437cc4-3fcc-4a48-a41b-232d99df14b0"
      },
      "execution_count": 139,
      "outputs": [
        {
          "output_type": "execute_result",
          "data": {
            "text/plain": [
              "array([[[ True, False, False, ..., False, False, False],\n",
              "        [False,  True, False, ..., False, False, False],\n",
              "        [False, False,  True, ..., False, False, False],\n",
              "        ...,\n",
              "        [False, False, False, ..., False, False, False],\n",
              "        [False, False, False, ..., False, False, False],\n",
              "        [False, False, False, ..., False, False, False]],\n",
              "\n",
              "       [[False,  True, False, ..., False, False, False],\n",
              "        [False, False,  True, ..., False, False, False],\n",
              "        [False, False, False, ..., False, False, False],\n",
              "        ...,\n",
              "        [False, False, False, ..., False, False, False],\n",
              "        [False, False, False, ..., False, False, False],\n",
              "        [False, False, False, ..., False, False, False]],\n",
              "\n",
              "       [[False, False,  True, ..., False, False, False],\n",
              "        [False, False, False, ..., False, False, False],\n",
              "        [False, False, False, ..., False, False, False],\n",
              "        ...,\n",
              "        [False, False, False, ..., False, False, False],\n",
              "        [False, False, False, ..., False, False, False],\n",
              "        [False, False, False, ..., False, False, False]]])"
            ]
          },
          "metadata": {},
          "execution_count": 139
        }
      ]
    },
    {
      "cell_type": "code",
      "source": [
        "x.shape"
      ],
      "metadata": {
        "colab": {
          "base_uri": "https://localhost:8080/"
        },
        "id": "9tDIBU8ryyLK",
        "outputId": "b27cccc1-04cc-41f4-ee22-3e333217837e"
      },
      "execution_count": 179,
      "outputs": [
        {
          "output_type": "execute_result",
          "data": {
            "text/plain": [
              "(27819, 8, 27827)"
            ]
          },
          "metadata": {},
          "execution_count": 179
        }
      ]
    },
    {
      "cell_type": "code",
      "source": [
        "for item, sentence in enumerate(sentences):\n",
        "  for token, char in enumerate(sentence):\n",
        "    x[item, token, char_indices[char]] = 1\n",
        "  y[i, char_indices[next_chars[i]]] = 1"
      ],
      "metadata": {
        "id": "_c_pXrMTvPfG"
      },
      "execution_count": 181,
      "outputs": []
    },
    {
      "cell_type": "code",
      "source": [
        "from keras.models import Sequential\n",
        "from keras.layers import LSTM, Dense, Activation\n",
        "from keras.callbacks import LambdaCallback"
      ],
      "metadata": {
        "id": "ziibvpZn2fOi"
      },
      "execution_count": 187,
      "outputs": []
    },
    {
      "cell_type": "code",
      "source": [
        "model = Sequential()\n",
        "model.add(LSTM(128, input_shape=(maxlen, len(chars))))\n",
        "model.add(Dense(len(chars)))\n",
        "model.add(Activation('softmax'))\n",
        "\n",
        "model.compile(loss='categorical_crossentropy', optimizer=keras.optimizers.Adam(lr=0.01))"
      ],
      "metadata": {
        "colab": {
          "base_uri": "https://localhost:8080/"
        },
        "id": "rLGOadmRvwoW",
        "outputId": "75a031e3-9d17-4fbf-8bda-ce5f12ba7c9f"
      },
      "execution_count": 189,
      "outputs": [
        {
          "output_type": "stream",
          "name": "stderr",
          "text": [
            "/usr/local/lib/python3.7/dist-packages/keras/optimizer_v2/adam.py:105: UserWarning: The `lr` argument is deprecated, use `learning_rate` instead.\n",
            "  super(Adam, self).__init__(name, **kwargs)\n"
          ]
        }
      ]
    },
    {
      "cell_type": "code",
      "source": [
        "model.summary()"
      ],
      "metadata": {
        "colab": {
          "base_uri": "https://localhost:8080/"
        },
        "id": "nY-FbJuO3BLG",
        "outputId": "84989b68-cb55-45b9-dedf-cf90f6f4e93a"
      },
      "execution_count": 190,
      "outputs": [
        {
          "output_type": "stream",
          "name": "stdout",
          "text": [
            "Model: \"sequential_1\"\n",
            "_________________________________________________________________\n",
            " Layer (type)                Output Shape              Param #   \n",
            "=================================================================\n",
            " lstm_1 (LSTM)               (None, 128)               14313472  \n",
            "                                                                 \n",
            " dense_1 (Dense)             (None, 27827)             3589683   \n",
            "                                                                 \n",
            " activation_1 (Activation)   (None, 27827)             0         \n",
            "                                                                 \n",
            "=================================================================\n",
            "Total params: 17,903,155\n",
            "Trainable params: 17,903,155\n",
            "Non-trainable params: 0\n",
            "_________________________________________________________________\n"
          ]
        }
      ]
    },
    {
      "cell_type": "code",
      "source": [
        "def on_epoch_end(epochs, logs):\n",
        "\n",
        "  for diversity in [0.2]:\n",
        "    sentence = sentences[0]\n",
        "    generated = sentences[0]\n",
        "    sys.stdout.write(generated)\n",
        "    num_chars = 500\n",
        "    for i in range(num_chars):\n",
        "      x_pred = np.zeros(1, maxlen, len(chars))\n",
        "      for token, char in enumerate(sentence):\n",
        "        x_pred[0, token, char_indices[char]] = 1.\n",
        "      preds = model.predict(x_pred, verbose=0)[0]\n",
        "      next_index = sample(preds, diversity)\n",
        "      next_char = indices_char[next_index]\n",
        "      generated += next_char\n",
        "      sentence = sentence[1:] + next_char\n",
        "      sys.stdout.write(next_char)\n",
        "      sys.stdout.flush()\n",
        "\n",
        "def sample(preds, diversity=1.0):\n",
        "  preds = np.asarray(preds).astype(\"float32\")\n",
        "  preds = np.log(preds) / diversity\n",
        "  exp_preds = np.exp(preds)\n",
        "  preds = exp_preds / np.sum(exp_preds)\n",
        "  preds = np.random.multinomial(1, preds, 1)\n",
        "  max_index = np.argmax(preds)\n",
        "  return max_index\n"
      ],
      "metadata": {
        "id": "0lWhTiDZ3GX0"
      },
      "execution_count": 192,
      "outputs": []
    },
    {
      "cell_type": "code",
      "source": [
        "history = model.fit(x, y, batch_size=128,\n",
        "                    epochs=5,\n",
        "                    callbacks=[LambdaCallback(on_epoch_end=on_epoch_end)])"
      ],
      "metadata": {
        "colab": {
          "base_uri": "https://localhost:8080/",
          "height": 425
        },
        "id": "48F5D6p55HkY",
        "outputId": "2c0f506c-2541-40d8-e569-b28d6bd63e8f"
      },
      "execution_count": 204,
      "outputs": [
        {
          "output_type": "stream",
          "name": "stdout",
          "text": [
            "Epoch 1/5\n",
            "218/218 [==============================] - ETA: 0s - loss: 1.7116e-04"
          ]
        },
        {
          "output_type": "error",
          "ename": "AttributeError",
          "evalue": "ignored",
          "traceback": [
            "\u001b[0;31m---------------------------------------------------------------------------\u001b[0m",
            "\u001b[0;31mAttributeError\u001b[0m                            Traceback (most recent call last)",
            "\u001b[0;32m<ipython-input-204-8fc967ce79f2>\u001b[0m in \u001b[0;36m<module>\u001b[0;34m\u001b[0m\n\u001b[1;32m      1\u001b[0m history = model.fit(x, y, batch_size=128,\n\u001b[1;32m      2\u001b[0m                     \u001b[0mepochs\u001b[0m\u001b[0;34m=\u001b[0m\u001b[0;36m5\u001b[0m\u001b[0;34m,\u001b[0m\u001b[0;34m\u001b[0m\u001b[0;34m\u001b[0m\u001b[0m\n\u001b[0;32m----> 3\u001b[0;31m                     callbacks=[LambdaCallback(on_epoch_end=on_epoch_end)])\n\u001b[0m",
            "\u001b[0;32m/usr/local/lib/python3.7/dist-packages/keras/utils/traceback_utils.py\u001b[0m in \u001b[0;36merror_handler\u001b[0;34m(*args, **kwargs)\u001b[0m\n\u001b[1;32m     65\u001b[0m     \u001b[0;32mexcept\u001b[0m \u001b[0mException\u001b[0m \u001b[0;32mas\u001b[0m \u001b[0me\u001b[0m\u001b[0;34m:\u001b[0m  \u001b[0;31m# pylint: disable=broad-except\u001b[0m\u001b[0;34m\u001b[0m\u001b[0;34m\u001b[0m\u001b[0m\n\u001b[1;32m     66\u001b[0m       \u001b[0mfiltered_tb\u001b[0m \u001b[0;34m=\u001b[0m \u001b[0m_process_traceback_frames\u001b[0m\u001b[0;34m(\u001b[0m\u001b[0me\u001b[0m\u001b[0;34m.\u001b[0m\u001b[0m__traceback__\u001b[0m\u001b[0;34m)\u001b[0m\u001b[0;34m\u001b[0m\u001b[0;34m\u001b[0m\u001b[0m\n\u001b[0;32m---> 67\u001b[0;31m       \u001b[0;32mraise\u001b[0m \u001b[0me\u001b[0m\u001b[0;34m.\u001b[0m\u001b[0mwith_traceback\u001b[0m\u001b[0;34m(\u001b[0m\u001b[0mfiltered_tb\u001b[0m\u001b[0;34m)\u001b[0m \u001b[0;32mfrom\u001b[0m \u001b[0;32mNone\u001b[0m\u001b[0;34m\u001b[0m\u001b[0;34m\u001b[0m\u001b[0m\n\u001b[0m\u001b[1;32m     68\u001b[0m     \u001b[0;32mfinally\u001b[0m\u001b[0;34m:\u001b[0m\u001b[0;34m\u001b[0m\u001b[0;34m\u001b[0m\u001b[0m\n\u001b[1;32m     69\u001b[0m       \u001b[0;32mdel\u001b[0m \u001b[0mfiltered_tb\u001b[0m\u001b[0;34m\u001b[0m\u001b[0;34m\u001b[0m\u001b[0m\n",
            "\u001b[0;32m<ipython-input-192-5974bd0c0668>\u001b[0m in \u001b[0;36mon_epoch_end\u001b[0;34m(epochs, logs)\u001b[0m\n\u001b[1;32m      4\u001b[0m     \u001b[0msentence\u001b[0m \u001b[0;34m=\u001b[0m \u001b[0msentences\u001b[0m\u001b[0;34m[\u001b[0m\u001b[0;36m0\u001b[0m\u001b[0;34m]\u001b[0m\u001b[0;34m\u001b[0m\u001b[0;34m\u001b[0m\u001b[0m\n\u001b[1;32m      5\u001b[0m     \u001b[0mgenerated\u001b[0m \u001b[0;34m=\u001b[0m \u001b[0msentences\u001b[0m\u001b[0;34m[\u001b[0m\u001b[0;36m0\u001b[0m\u001b[0;34m]\u001b[0m\u001b[0;34m\u001b[0m\u001b[0;34m\u001b[0m\u001b[0m\n\u001b[0;32m----> 6\u001b[0;31m     \u001b[0msys\u001b[0m\u001b[0;34m.\u001b[0m\u001b[0mstdout\u001b[0m\u001b[0;34m.\u001b[0m\u001b[0mwrite\u001b[0m\u001b[0;34m(\u001b[0m\u001b[0mgenerated\u001b[0m\u001b[0;34m)\u001b[0m\u001b[0;34m\u001b[0m\u001b[0;34m\u001b[0m\u001b[0m\n\u001b[0m\u001b[1;32m      7\u001b[0m     \u001b[0mnum_chars\u001b[0m \u001b[0;34m=\u001b[0m \u001b[0;36m500\u001b[0m\u001b[0;34m\u001b[0m\u001b[0;34m\u001b[0m\u001b[0m\n\u001b[1;32m      8\u001b[0m     \u001b[0;32mfor\u001b[0m \u001b[0mi\u001b[0m \u001b[0;32min\u001b[0m \u001b[0mrange\u001b[0m\u001b[0;34m(\u001b[0m\u001b[0mnum_chars\u001b[0m\u001b[0;34m)\u001b[0m\u001b[0;34m:\u001b[0m\u001b[0;34m\u001b[0m\u001b[0;34m\u001b[0m\u001b[0m\n",
            "\u001b[0;32m/usr/local/lib/python3.7/dist-packages/ipykernel/iostream.py\u001b[0m in \u001b[0;36mwrite\u001b[0;34m(self, string)\u001b[0m\n\u001b[1;32m    398\u001b[0m             \u001b[0;31m# Make sure that we're handling unicode\u001b[0m\u001b[0;34m\u001b[0m\u001b[0;34m\u001b[0m\u001b[0;34m\u001b[0m\u001b[0m\n\u001b[1;32m    399\u001b[0m             \u001b[0;32mif\u001b[0m \u001b[0;32mnot\u001b[0m \u001b[0misinstance\u001b[0m\u001b[0;34m(\u001b[0m\u001b[0mstring\u001b[0m\u001b[0;34m,\u001b[0m \u001b[0municode_type\u001b[0m\u001b[0;34m)\u001b[0m\u001b[0;34m:\u001b[0m\u001b[0;34m\u001b[0m\u001b[0;34m\u001b[0m\u001b[0m\n\u001b[0;32m--> 400\u001b[0;31m                 \u001b[0mstring\u001b[0m \u001b[0;34m=\u001b[0m \u001b[0mstring\u001b[0m\u001b[0;34m.\u001b[0m\u001b[0mdecode\u001b[0m\u001b[0;34m(\u001b[0m\u001b[0mself\u001b[0m\u001b[0;34m.\u001b[0m\u001b[0mencoding\u001b[0m\u001b[0;34m,\u001b[0m \u001b[0;34m'replace'\u001b[0m\u001b[0;34m)\u001b[0m\u001b[0;34m\u001b[0m\u001b[0;34m\u001b[0m\u001b[0m\n\u001b[0m\u001b[1;32m    401\u001b[0m \u001b[0;34m\u001b[0m\u001b[0m\n\u001b[1;32m    402\u001b[0m             \u001b[0mis_child\u001b[0m \u001b[0;34m=\u001b[0m \u001b[0;34m(\u001b[0m\u001b[0;32mnot\u001b[0m \u001b[0mself\u001b[0m\u001b[0;34m.\u001b[0m\u001b[0m_is_master_process\u001b[0m\u001b[0;34m(\u001b[0m\u001b[0;34m)\u001b[0m\u001b[0;34m)\u001b[0m\u001b[0;34m\u001b[0m\u001b[0;34m\u001b[0m\u001b[0m\n",
            "\u001b[0;31mAttributeError\u001b[0m: 'list' object has no attribute 'decode'"
          ]
        }
      ]
    },
    {
      "cell_type": "code",
      "source": [],
      "metadata": {
        "id": "OKgoPYrP5Q0P"
      },
      "execution_count": null,
      "outputs": []
    }
  ]
}