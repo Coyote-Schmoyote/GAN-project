{
  "nbformat": 4,
  "nbformat_minor": 0,
  "metadata": {
    "colab": {
      "name": "GAN-MNIST.ipynb",
      "provenance": [],
      "collapsed_sections": [
        "y0i0gh3-UIhs",
        "rrOokY5NVmqN",
        "kxPNIJvJWizK",
        "Gb6eGSMnkx8X",
        "5tAuN_vyozG3",
        "ln-oYSE5vAaO"
      ],
      "mount_file_id": "1UbT1J9fHQtFuCzYOVbV-h5QbGqyGPOPi",
      "authorship_tag": "ABX9TyPNCwwC/Fry5pRwdtBpo5V+",
      "include_colab_link": true
    },
    "kernelspec": {
      "name": "python3",
      "display_name": "Python 3"
    },
    "language_info": {
      "name": "python"
    },
    "gpuClass": "standard",
    "accelerator": "GPU"
  },
  "cells": [
    {
      "cell_type": "markdown",
      "metadata": {
        "id": "view-in-github",
        "colab_type": "text"
      },
      "source": [
        "<a href=\"https://colab.research.google.com/github/Coyote-Schmoyote/GAN-project/blob/main/GAN_MNIST.ipynb\" target=\"_parent\"><img src=\"https://colab.research.google.com/assets/colab-badge.svg\" alt=\"Open In Colab\"/></a>"
      ]
    },
    {
      "cell_type": "markdown",
      "source": [
        "# Image generation with GAN\n",
        "This notebook looks into the process of generating images using GAN. The first part of the notebook covers the workflow of building a simple GAN using an example of simple handwritten digit image generation. It is meant to serve as an introduction to the second part of the notebook, art portrait generation with DCGAN. The project is inspired by the AI-generated portrait of Edmond de Belamy (2018) that was sold at Christie's for $432,000. \n",
        "## 1. Problem Definition\n",
        "Generate new images based on the input images from the dataset.\n",
        "## 2. Data\n",
        "The data used in this project is the Portrait Paintings dataset available on Kaggle (https://www.kaggle.com/datasets/deewakarchakraborty/portrait-paintings). The dataset consists of 5734 images of portrait paintings created between 1859 to 1950.\n",
        "## 3. Approach\n",
        "For this project, we will use Generative Adversarial Network (GAN) for MNIST digit generation, and Deep Convolutional Generative Adversarial Network (DCGAN) for art portrait generation.\n",
        "\n",
        "##4. Evaluation\n",
        "There is no function to evaluate the performance of a GAN model, which means that the performance of the model will be evaluated based on the quality of the generated images."
      ],
      "metadata": {
        "id": "GqeBvOa6H_ZO"
      }
    },
    {
      "cell_type": "code",
      "execution_count": null,
      "metadata": {
        "id": "v-n901fhwEaL"
      },
      "outputs": [],
      "source": [
        "import os\n",
        "import numpy as np\n",
        "import random \n",
        "from matplotlib import pyplot as plt\n",
        "import tensorflow as tf\n",
        "from tensorflow import keras\n",
        "from keras import layers"
      ]
    },
    {
      "cell_type": "markdown",
      "source": [
        "#I. MNIST Digit Generation with GAN\n",
        "## Generative Adversarial Network (GAN)\n",
        "GAN is an unsupervised learning algorithm that discovers the patterns in the input data, and uses it to generate completely new data based on the input dataset. This deep learning architecture was introduced in 2014 by Ian Goodfellow and his colleagues, and is considered to be one of the most significant innovations in image generation. \n",
        "\n",
        "A simple GAN uses convolutional neural network (CNN), composed of convolutional layer with ReLU activation function, pooling layer, and fully connected Dense layers. \n",
        "\n",
        "Apart from simple GAN architecture, there are many variations, such as DCGAN, CycleGAN, PGGAN, StyleGAN, etc., each more suitable for a particular task. Despite their differences, all these architectures follow a similar basic structure based on convolutional neural networks, and apply two \"competitive\" (adversarial) models: a generator and a discriminator. \n",
        "\n"
      ],
      "metadata": {
        "id": "Q521hcKAWt7L"
      }
    },
    {
      "cell_type": "markdown",
      "source": [
        "## Data prepearation\n",
        "For our first project with GAN, we will use MNIST handwritten digit dataset, which is conveniently built in `keras.datasets` module. \n",
        "\n",
        "First, we will need to import the module and load the train images. For this project, we don't need to import training labels (they correspond with the number depicted in the image for classification tasks, and we don't need them for image generation) and test dataset. To import only the trianing images, we will leave the `train_labels` and `test_images, test_labels` blank `(_, _)`."
      ],
      "metadata": {
        "id": "svRfEZh964GC"
      }
    },
    {
      "cell_type": "code",
      "source": [
        "from keras.datasets.mnist import load_data\n",
        "\n",
        "(train_images, _), (_, _) = load_data()"
      ],
      "metadata": {
        "colab": {
          "base_uri": "https://localhost:8080/"
        },
        "id": "h2zycdo1WwNy",
        "outputId": "014ec850-199f-4c0a-9a2b-b029be76bde7"
      },
      "execution_count": null,
      "outputs": [
        {
          "output_type": "stream",
          "name": "stdout",
          "text": [
            "Downloading data from https://storage.googleapis.com/tensorflow/tf-keras-datasets/mnist.npz\n",
            "11493376/11490434 [==============================] - 0s 0us/step\n",
            "11501568/11490434 [==============================] - 0s 0us/step\n"
          ]
        }
      ]
    },
    {
      "cell_type": "markdown",
      "source": [
        "**Shape** of data is a very important concept in deep learning. All data has shape, and shape has meaning. The shape of an image is usually represented in 3 dimensions: height, weight, and the number of color channels (if it's grayscale image, the color channel=1, and if it's an RGB image, the color channel=3). For example, if we have a color 64x64px image, its dimension will be represented as `[64, 64, 3]`. \n",
        "\n",
        "When we have a set of images as a tensor, the first dimension refers to the batch number, i.e. how many samples there are in the tensor. For example, if we have a batch of 1000 color images of 64x64px, the dimension will be represented as `[1000, 64, 64, 3]`.\n",
        "\n",
        "Our `train_images` MNIST data is a tensor that has 60000 samples of size 28x28. "
      ],
      "metadata": {
        "id": "uVzESbLC7zLA"
      }
    },
    {
      "cell_type": "code",
      "source": [
        "print(\"train\", train_images.shape)"
      ],
      "metadata": {
        "colab": {
          "base_uri": "https://localhost:8080/"
        },
        "id": "hrZ0p9qW7zhI",
        "outputId": "56f28efb-aad5-4768-a72f-36787fada683"
      },
      "execution_count": null,
      "outputs": [
        {
          "output_type": "stream",
          "name": "stdout",
          "text": [
            "train (60000, 28, 28)\n"
          ]
        }
      ]
    },
    {
      "cell_type": "markdown",
      "source": [
        "As we remember from our previous projects with image manipulation, `train_images` are not actual images, they are a numerical representation of an image in a form of an array. Each numerical value represents the brightness of a pixel.\n",
        "\n",
        "* 0 represents the darkest value (black)\n",
        "* 255 represents the brightest value (white)\n",
        "\n",
        "Let's take a look at the first array of an image from our `train_images` variable."
      ],
      "metadata": {
        "id": "bRD4V1vHBkux"
      }
    },
    {
      "cell_type": "code",
      "source": [
        "train_images[0]"
      ],
      "metadata": {
        "colab": {
          "base_uri": "https://localhost:8080/"
        },
        "id": "g3eTUjmIBfxT",
        "outputId": "9f74cc2a-4285-4d94-a5ea-f3980ffaa49e"
      },
      "execution_count": null,
      "outputs": [
        {
          "output_type": "execute_result",
          "data": {
            "text/plain": [
              "array([[  0,   0,   0,   0,   0,   0,   0,   0,   0,   0,   0,   0,   0,\n",
              "          0,   0,   0,   0,   0,   0,   0,   0,   0,   0,   0,   0,   0,\n",
              "          0,   0],\n",
              "       [  0,   0,   0,   0,   0,   0,   0,   0,   0,   0,   0,   0,   0,\n",
              "          0,   0,   0,   0,   0,   0,   0,   0,   0,   0,   0,   0,   0,\n",
              "          0,   0],\n",
              "       [  0,   0,   0,   0,   0,   0,   0,   0,   0,   0,   0,   0,   0,\n",
              "          0,   0,   0,   0,   0,   0,   0,   0,   0,   0,   0,   0,   0,\n",
              "          0,   0],\n",
              "       [  0,   0,   0,   0,   0,   0,   0,   0,   0,   0,   0,   0,   0,\n",
              "          0,   0,   0,   0,   0,   0,   0,   0,   0,   0,   0,   0,   0,\n",
              "          0,   0],\n",
              "       [  0,   0,   0,   0,   0,   0,   0,   0,   0,   0,   0,   0,   0,\n",
              "          0,   0,   0,   0,   0,   0,   0,   0,   0,   0,   0,   0,   0,\n",
              "          0,   0],\n",
              "       [  0,   0,   0,   0,   0,   0,   0,   0,   0,   0,   0,   0,   3,\n",
              "         18,  18,  18, 126, 136, 175,  26, 166, 255, 247, 127,   0,   0,\n",
              "          0,   0],\n",
              "       [  0,   0,   0,   0,   0,   0,   0,   0,  30,  36,  94, 154, 170,\n",
              "        253, 253, 253, 253, 253, 225, 172, 253, 242, 195,  64,   0,   0,\n",
              "          0,   0],\n",
              "       [  0,   0,   0,   0,   0,   0,   0,  49, 238, 253, 253, 253, 253,\n",
              "        253, 253, 253, 253, 251,  93,  82,  82,  56,  39,   0,   0,   0,\n",
              "          0,   0],\n",
              "       [  0,   0,   0,   0,   0,   0,   0,  18, 219, 253, 253, 253, 253,\n",
              "        253, 198, 182, 247, 241,   0,   0,   0,   0,   0,   0,   0,   0,\n",
              "          0,   0],\n",
              "       [  0,   0,   0,   0,   0,   0,   0,   0,  80, 156, 107, 253, 253,\n",
              "        205,  11,   0,  43, 154,   0,   0,   0,   0,   0,   0,   0,   0,\n",
              "          0,   0],\n",
              "       [  0,   0,   0,   0,   0,   0,   0,   0,   0,  14,   1, 154, 253,\n",
              "         90,   0,   0,   0,   0,   0,   0,   0,   0,   0,   0,   0,   0,\n",
              "          0,   0],\n",
              "       [  0,   0,   0,   0,   0,   0,   0,   0,   0,   0,   0, 139, 253,\n",
              "        190,   2,   0,   0,   0,   0,   0,   0,   0,   0,   0,   0,   0,\n",
              "          0,   0],\n",
              "       [  0,   0,   0,   0,   0,   0,   0,   0,   0,   0,   0,  11, 190,\n",
              "        253,  70,   0,   0,   0,   0,   0,   0,   0,   0,   0,   0,   0,\n",
              "          0,   0],\n",
              "       [  0,   0,   0,   0,   0,   0,   0,   0,   0,   0,   0,   0,  35,\n",
              "        241, 225, 160, 108,   1,   0,   0,   0,   0,   0,   0,   0,   0,\n",
              "          0,   0],\n",
              "       [  0,   0,   0,   0,   0,   0,   0,   0,   0,   0,   0,   0,   0,\n",
              "         81, 240, 253, 253, 119,  25,   0,   0,   0,   0,   0,   0,   0,\n",
              "          0,   0],\n",
              "       [  0,   0,   0,   0,   0,   0,   0,   0,   0,   0,   0,   0,   0,\n",
              "          0,  45, 186, 253, 253, 150,  27,   0,   0,   0,   0,   0,   0,\n",
              "          0,   0],\n",
              "       [  0,   0,   0,   0,   0,   0,   0,   0,   0,   0,   0,   0,   0,\n",
              "          0,   0,  16,  93, 252, 253, 187,   0,   0,   0,   0,   0,   0,\n",
              "          0,   0],\n",
              "       [  0,   0,   0,   0,   0,   0,   0,   0,   0,   0,   0,   0,   0,\n",
              "          0,   0,   0,   0, 249, 253, 249,  64,   0,   0,   0,   0,   0,\n",
              "          0,   0],\n",
              "       [  0,   0,   0,   0,   0,   0,   0,   0,   0,   0,   0,   0,   0,\n",
              "          0,  46, 130, 183, 253, 253, 207,   2,   0,   0,   0,   0,   0,\n",
              "          0,   0],\n",
              "       [  0,   0,   0,   0,   0,   0,   0,   0,   0,   0,   0,   0,  39,\n",
              "        148, 229, 253, 253, 253, 250, 182,   0,   0,   0,   0,   0,   0,\n",
              "          0,   0],\n",
              "       [  0,   0,   0,   0,   0,   0,   0,   0,   0,   0,  24, 114, 221,\n",
              "        253, 253, 253, 253, 201,  78,   0,   0,   0,   0,   0,   0,   0,\n",
              "          0,   0],\n",
              "       [  0,   0,   0,   0,   0,   0,   0,   0,  23,  66, 213, 253, 253,\n",
              "        253, 253, 198,  81,   2,   0,   0,   0,   0,   0,   0,   0,   0,\n",
              "          0,   0],\n",
              "       [  0,   0,   0,   0,   0,   0,  18, 171, 219, 253, 253, 253, 253,\n",
              "        195,  80,   9,   0,   0,   0,   0,   0,   0,   0,   0,   0,   0,\n",
              "          0,   0],\n",
              "       [  0,   0,   0,   0,  55, 172, 226, 253, 253, 253, 253, 244, 133,\n",
              "         11,   0,   0,   0,   0,   0,   0,   0,   0,   0,   0,   0,   0,\n",
              "          0,   0],\n",
              "       [  0,   0,   0,   0, 136, 253, 253, 253, 212, 135, 132,  16,   0,\n",
              "          0,   0,   0,   0,   0,   0,   0,   0,   0,   0,   0,   0,   0,\n",
              "          0,   0],\n",
              "       [  0,   0,   0,   0,   0,   0,   0,   0,   0,   0,   0,   0,   0,\n",
              "          0,   0,   0,   0,   0,   0,   0,   0,   0,   0,   0,   0,   0,\n",
              "          0,   0],\n",
              "       [  0,   0,   0,   0,   0,   0,   0,   0,   0,   0,   0,   0,   0,\n",
              "          0,   0,   0,   0,   0,   0,   0,   0,   0,   0,   0,   0,   0,\n",
              "          0,   0],\n",
              "       [  0,   0,   0,   0,   0,   0,   0,   0,   0,   0,   0,   0,   0,\n",
              "          0,   0,   0,   0,   0,   0,   0,   0,   0,   0,   0,   0,   0,\n",
              "          0,   0]], dtype=uint8)"
            ]
          },
          "metadata": {},
          "execution_count": 3
        }
      ]
    },
    {
      "cell_type": "markdown",
      "source": [
        "To display this an image, we can plot it using the `plt.imshow()`, and specify that we want to view it in grayscale by using `cmap = \"gray\"`."
      ],
      "metadata": {
        "id": "Qrqa_CN197--"
      }
    },
    {
      "cell_type": "code",
      "source": [
        "# disaply a sample image\n",
        "plt.imshow(train_images[0], cmap=\"gray\");"
      ],
      "metadata": {
        "colab": {
          "base_uri": "https://localhost:8080/",
          "height": 265
        },
        "id": "IINbTzIbj1zl",
        "outputId": "6ced34f5-a07c-4636-d315-a327646024aa"
      },
      "execution_count": null,
      "outputs": [
        {
          "output_type": "display_data",
          "data": {
            "text/plain": [
              "<Figure size 432x288 with 1 Axes>"
            ],
            "image/png": "[encoded data removed]"
          },
          "metadata": {
            "needs_background": "light"
          }
        }
      ]
    },
    {
      "cell_type": "code",
      "source": [
        "# display multiple sample images\n",
        "for i in range(16):\n",
        "  plt.subplot(4, 4, 1+i)\n",
        "  plt.axis(\"off\")\n",
        "  plt.imshow(train_images[i], cmap=\"gray\")\n",
        "plt.show()"
      ],
      "metadata": {
        "colab": {
          "base_uri": "https://localhost:8080/",
          "height": 248
        },
        "id": "ZRQoMN4akWvY",
        "outputId": "f2623b82-1f1d-44d4-cf15-22003ce1ee33"
      },
      "execution_count": null,
      "outputs": [
        {
          "output_type": "display_data",
          "data": {
            "text/plain": [
              "<Figure size 432x288 with 16 Axes>"
            ],
            "image/png": "[encoded data removed]"
          },
          "metadata": {
            "needs_background": "light"
          }
        }
      ]
    },
    {
      "cell_type": "markdown",
      "source": [
        "## Generator and disrciminator\n",
        "The main feature of a GAN model is the interaction between the generator and discriminator. The generator learns how to generate new handwritten digits using the examples from the training dataset. The role of the discriminator is then to decide whether the images are real (from the original dataset) or fake (created by the generator). If the discriminator guesses correctly, the generator algorithm adapts and tries to produce more realistic images. If the discriminator is wrong, it must adjust its algorithms to learn how to better distinguish real images from fake ones. \n",
        "\n",
        "### Discriminator\n",
        "Discriminator is a CNN-based binary classification network, which attempts to guess whether the images are fake (0) or real (1). \n",
        "During the training, the Discriminator receives half of the images from the training dataset, and the other half of images from the Generator. It then attempts to predict whether an image comes from the original dataset or from the Generator.\n",
        "\n",
        "Let's build the discriminator model using `keras.Sequential` module. We will use 5 types of layers:\n",
        "* Conv2D\n",
        "* LeakyReLU\n",
        "* Dropout\n",
        "* Flatten\n",
        "* Dense\n",
        "\n",
        "**Conv2D layer** creates a convolution filter (kernel) that slides over the 2D input data (image) and performs matrix multiplication. Convolutions decrease the image size and compress all the information by summing up the matrix multiplication results. The final output of the convolutional layer is a vector that is passed to the next layer.\n",
        "Conv2D layer accepts multiple parameters, but the most important ones are the number of `filters`, `kernel_size`(or filter size), `strides`, and `padding`.\n",
        " * Number of filters: It is common for a convolutional layer to have from 32 to 512 filters. The higher the number of filters, the more complex features the network can extract from the image data. Often, we the value of the filter becomes higher as the network gets deeper.\n",
        " * `kernel_size` refers tothe size of the convolutional filter that slides over the image. There is no specific way to choose dimensions of a kernel size. Currently, the most popular choices for kernel size is 3x3, and there is a general preference for odd numbers (1x1, 3x3, 5x5), because, unlike even number filters (2x2, 4x4), they symmetrically divide the previous layer pixels around the centered output pixel.\n",
        "\n",
        "**Leaky ReLU layer** is an activation function layer that follows the convolutional layer. Leaky ReLU is a leaky version of a Rectified Linear Unit (ReLU) activation function. Leaky ReLU is preferred in CNN because it solved the problem of dying ReLU, which prevents the neural network from learning.\n",
        "\n",
        "**Dropout layer** is a typical layer used in Convolutional Neural Networks. The Dropout layer is a regularization method that is used to prevent overfitting of the training data. Without a Dropout layer, the first batch of training samples influences the learning process disporportionately. In the dropout layer, we randomly drop out some of the layer's neurons by turning the values of those random neurons to zeroes. The dropout layer accepts the `dropout_rate` hyperparameter. Changing the value of the dropout rate allows us to control how many neurons drop out. Typical dropout rates are often within 20-50% (0.2~0.5) of layer's neurons. \n",
        "\n",
        "**Flatten layer** is used to make the multi-dimensional input one-dimensional. It is often used as a transitional layer before a fully-connected Dense layer. Flattening the output of the convolutional layer creates a long feature vector which is easier to interpret for the output layer.\n",
        "\n",
        "**Dense layer**, also referred to as a *fully-connected layer*, is an output layer that is connected to every neuron of its preceding layer. Dense layer accepts 2 hyperparameters:\n",
        " * `units` define the size of the output from the dense layer.\n",
        " * `activation` accepts an activation function used for the transformation of the neurons. In the output layer, depending on the task, we can use a `sigmoid` or `softmax` activation function. For binary and multilabel classification, we use a sigmoid activation function. For multiclass, softmax activation function.\n"
      ],
      "metadata": {
        "id": "aohUDdjl6y49"
      }
    },
    {
      "cell_type": "code",
      "source": [
        "def make_discriminator(in_shape=(28,28,1)):\n",
        "  #instantiate the model\n",
        "  model = keras.Sequential(name=\"Discriminator\")\n",
        "\n",
        "  #add 1st set of convolutional + normalization layers\n",
        "  model.add(layers.Conv2D(64, kernel_size=3, strides=2, padding=\"same\", input_shape=in_shape))\n",
        "  model.add(layers.LeakyReLU(alpha=0.2))\n",
        "  model.add(layers.Dropout(0.4))\n",
        "\n",
        "  #add 2nd set of convolutional + normalization layers\n",
        "  model.add(layers.Conv2D(64, kernel_size = 3, strides=2, padding=\"same\"))\n",
        "  model.add(layers.LeakyReLU(alpha=0.2))\n",
        "  model.add(layers.Dropout(0.4))\n",
        "\n",
        "  #Add final flatten and output layers\n",
        "  model.add(layers.Flatten())\n",
        "  model.add(layers.Dense(1, activation=\"sigmoid\"))\n",
        "\n",
        "  #compile the model\n",
        "  model.compile(loss = \"binary_crossentropy\", \n",
        "                optimizer = keras.optimizers.Adam(lr=0.0002, beta_1=0.5),\n",
        "                metrics = [\"accuracy\"])\n",
        "  return model"
      ],
      "metadata": {
        "id": "iAbQm9c3GBeb"
      },
      "execution_count": null,
      "outputs": []
    },
    {
      "cell_type": "code",
      "source": [
        "discriminator = make_discriminator()\n",
        "discriminator.summary()"
      ],
      "metadata": {
        "colab": {
          "base_uri": "https://localhost:8080/"
        },
        "id": "CIk6zsVBG_uC",
        "outputId": "afb954c0-088a-49a3-dce3-2d4bd74e8837"
      },
      "execution_count": null,
      "outputs": [
        {
          "output_type": "stream",
          "name": "stdout",
          "text": [
            "Model: \"Discriminator\"\n",
            "_________________________________________________________________\n",
            " Layer (type)                Output Shape              Param #   \n",
            "=================================================================\n",
            " conv2d (Conv2D)             (None, 14, 14, 64)        640       \n",
            "                                                                 \n",
            " leaky_re_lu (LeakyReLU)     (None, 14, 14, 64)        0         \n",
            "                                                                 \n",
            " dropout (Dropout)           (None, 14, 14, 64)        0         \n",
            "                                                                 \n",
            " conv2d_1 (Conv2D)           (None, 7, 7, 64)          36928     \n",
            "                                                                 \n",
            " leaky_re_lu_1 (LeakyReLU)   (None, 7, 7, 64)          0         \n",
            "                                                                 \n",
            " dropout_1 (Dropout)         (None, 7, 7, 64)          0         \n",
            "                                                                 \n",
            " flatten (Flatten)           (None, 3136)              0         \n",
            "                                                                 \n",
            " dense (Dense)               (None, 1)                 3137      \n",
            "                                                                 \n",
            "=================================================================\n",
            "Total params: 40,705\n",
            "Trainable params: 40,705\n",
            "Non-trainable params: 0\n",
            "_________________________________________________________________\n"
          ]
        },
        {
          "output_type": "stream",
          "name": "stderr",
          "text": [
            "/usr/local/lib/python3.7/dist-packages/keras/optimizer_v2/adam.py:105: UserWarning: The `lr` argument is deprecated, use `learning_rate` instead.\n",
            "  super(Adam, self).__init__(name, **kwargs)\n"
          ]
        }
      ]
    },
    {
      "cell_type": "markdown",
      "source": [
        "## Generator\n",
        "The Generator learns to create fake data by following the feedback from the discriminator. It tries to trick the discriminator into thinking that the images it generates are real. \n",
        "\n",
        "In order to generate a fake image, the Generator first needs some kind of input, so we pass it random noise (also called *latent space*) as an input. The generator then transforms noise into a meaningful output, based on the feedback it receives from the Discriminator. \n",
        "\n",
        "A typical Generator model has 5 types of layers. It starts with a **Dense layer**. The reason we use Dense layer at the beginning of our network is that it has enough nodes to represent a low-resolution version of the output image. For example, if he have a 7x7 px image with 128 filters as our input, we will calculate the number of nodes in the first layer by multiplying all these values: 7 * 7 * 128. \n",
        "\n",
        "**Batch Nornmalization layer** allows every layer of the network to learn more independently and quickly by normalizing the output of the previous layers. \n",
        "\n",
        "Similar to our Discriminator mode, we want to use a **Leaky ReLU** as our activation function in the Generator.\n",
        "\n",
        "**Reshape layer** allows us to reshape the output of the previous layer. In our first Dense layer, we set the number of nodes as the product of number of filters and the dimensions of our image (128 * 7 * 7). The Reshape layer allows us to change this into a more image-like shape, so we can pass it to the next convolutional layer.\n",
        "\n",
        "**Conv2D Transpose layer** is a convolutional layer that essentially performs the opposite of a convolution (and is sometimes referred to as \"deconvolution\"). A Conv2D Transpose layer upsamples the input (makes the image size bigger) and learns how to fill in details during the training process. Conv2D Transpose layer accepts the same hyperparameters as typical Conv2D layer. Opposite to traditional Conv2D layers, the deeper we move into the architecture, the smaller filter we can apply."
      ],
      "metadata": {
        "id": "Z3AgJaddi1lE"
      }
    },
    {
      "cell_type": "code",
      "source": [
        "# make the generator\n",
        "def make_generator(latent_dim):\n",
        "\tmodel = keras.Sequential(name=\"Generator\")\n",
        " \n",
        "\t# foundation for 7x7 image\n",
        "\tn_nodes = 128 * 7 * 7\n",
        "\tmodel.add(layers.Dense(n_nodes, input_dim=latent_dim))\n",
        "\tmodel.add(layers.LeakyReLU(alpha=0.2))\n",
        "\tmodel.add(layers.Reshape((7, 7, 128)))\n",
        " \n",
        "\t# upsample to 14x14\n",
        "\tmodel.add(layers.Conv2DTranspose(128, kernel_size=4, strides=(2,2), padding='same'))\n",
        "\tmodel.add(layers.LeakyReLU(alpha=0.2))\n",
        " \n",
        "\t# upsample to 28x28\n",
        "\tmodel.add(layers.Conv2DTranspose(128, kernel_size=4, strides=(2,2), padding='same'))\n",
        "\tmodel.add(layers.LeakyReLU(alpha=0.2))\n",
        " \n",
        "\tmodel.add(layers.Conv2D(1, (7,7), activation='sigmoid', padding='same'))\n",
        "\treturn model"
      ],
      "metadata": {
        "id": "vztRdTVzojt-"
      },
      "execution_count": null,
      "outputs": []
    },
    {
      "cell_type": "markdown",
      "source": [
        "When we build the generator, we have to pass the value of the latent dimension to it as an argument. Often, `latent_dim=100`, however, it is not a requirememnt, and any other number should work just as well."
      ],
      "metadata": {
        "id": "q-MxGBRWb_va"
      }
    },
    {
      "cell_type": "code",
      "source": [
        "latent_dim = 100\n",
        "generator = make_generator(latent_dim)\n",
        "\n",
        "generator.summary()"
      ],
      "metadata": {
        "colab": {
          "base_uri": "https://localhost:8080/"
        },
        "id": "4ECLGfB3pvbu",
        "outputId": "d6e2ee91-7a00-4bd5-d5e0-ca3bdc8c575d"
      },
      "execution_count": null,
      "outputs": [
        {
          "output_type": "stream",
          "name": "stdout",
          "text": [
            "Model: \"Generator\"\n",
            "_________________________________________________________________\n",
            " Layer (type)                Output Shape              Param #   \n",
            "=================================================================\n",
            " dense_1 (Dense)             (None, 6272)              633472    \n",
            "                                                                 \n",
            " leaky_re_lu_2 (LeakyReLU)   (None, 6272)              0         \n",
            "                                                                 \n",
            " reshape (Reshape)           (None, 7, 7, 128)         0         \n",
            "                                                                 \n",
            " conv2d_transpose (Conv2DTra  (None, 14, 14, 128)      262272    \n",
            " nspose)                                                         \n",
            "                                                                 \n",
            " leaky_re_lu_3 (LeakyReLU)   (None, 14, 14, 128)       0         \n",
            "                                                                 \n",
            " conv2d_transpose_1 (Conv2DT  (None, 28, 28, 128)      262272    \n",
            " ranspose)                                                       \n",
            "                                                                 \n",
            " leaky_re_lu_4 (LeakyReLU)   (None, 28, 28, 128)       0         \n",
            "                                                                 \n",
            " conv2d_2 (Conv2D)           (None, 28, 28, 1)         6273      \n",
            "                                                                 \n",
            "=================================================================\n",
            "Total params: 1,164,289\n",
            "Trainable params: 1,164,289\n",
            "Non-trainable params: 0\n",
            "_________________________________________________________________\n"
          ]
        }
      ]
    },
    {
      "cell_type": "markdown",
      "source": [
        "Let's see what kind of images our generator creates before it is trained."
      ],
      "metadata": {
        "id": "WfXFGIybqWCk"
      }
    },
    {
      "cell_type": "code",
      "source": [
        "random_noise = tf.random.normal([1, 100])\n",
        "generated_noise = generator(random_noise, training=False)\n",
        "\n",
        "plt.imshow(generated_noise[0, :, :, 0], cmap=\"gray\");"
      ],
      "metadata": {
        "colab": {
          "base_uri": "https://localhost:8080/",
          "height": 265
        },
        "id": "6fYdKL_3p_G4",
        "outputId": "d6fe5d6c-66c5-4cd1-d2f4-6517da1f1b1a"
      },
      "execution_count": null,
      "outputs": [
        {
          "output_type": "display_data",
          "data": {
            "text/plain": [
              "<Figure size 432x288 with 1 Axes>"
            ],
            "image/png": "[encoded data removed]"
          },
          "metadata": {
            "needs_background": "light"
          }
        }
      ]
    },
    {
      "cell_type": "markdown",
      "source": [
        "## Create a GAN model\n",
        "Now that we have built our separate Generator and Discriminator models, we can combine them in a single GAN model. We will use the same `keras.Sequential()` methodl except this time, instead of adding layers, we will add out models.\n",
        "\n",
        "It is important to keep in mind that we have to set the Discriminator as untrainable in the GAN model, because Discriminator and Generator have to be trained separately. In the further steps, we will ssee how to implement it practically."
      ],
      "metadata": {
        "id": "-BSd-SYE6uW-"
      }
    },
    {
      "cell_type": "code",
      "source": [
        "def make_gan(generator, discriminator):\n",
        "  discriminator.trainable = False\n",
        "  model = keras.Sequential(name=\"GAN\")\n",
        "\n",
        "\t# add generator\n",
        "  model.add(generator)\n",
        "\n",
        "\t# add the discriminator\n",
        "  model.add(discriminator)\n",
        "\n",
        "\t# compile model\n",
        "  opt = keras.optimizers.Adam(lr=0.0002, beta_1=0.5)\n",
        "  model.compile(loss='binary_crossentropy', optimizer=opt)\n",
        "  return model"
      ],
      "metadata": {
        "id": "kTEM9AJ4vPnc"
      },
      "execution_count": null,
      "outputs": []
    },
    {
      "cell_type": "code",
      "source": [
        "gan = make_gan(generator, discriminator)\n",
        "\n",
        "gan.summary()"
      ],
      "metadata": {
        "colab": {
          "base_uri": "https://localhost:8080/"
        },
        "id": "MELHeSgUvzAB",
        "outputId": "d62f2212-4797-4981-da94-bceecad9f5bb"
      },
      "execution_count": null,
      "outputs": [
        {
          "output_type": "stream",
          "name": "stdout",
          "text": [
            "Model: \"GAN\"\n",
            "_________________________________________________________________\n",
            " Layer (type)                Output Shape              Param #   \n",
            "=================================================================\n",
            " Generator (Sequential)      (None, 28, 28, 1)         1164289   \n",
            "                                                                 \n",
            " Discriminator (Sequential)  (None, 1)                 40705     \n",
            "                                                                 \n",
            "=================================================================\n",
            "Total params: 1,204,994\n",
            "Trainable params: 1,164,289\n",
            "Non-trainable params: 40,705\n",
            "_________________________________________________________________\n"
          ]
        }
      ]
    },
    {
      "cell_type": "markdown",
      "source": [
        "## Preparing to train the GAN algorithm\n",
        "Building the Discriminator and the Generator networks is the easy part of building GAN. However, defining how exactly we want our model to train is much more challenging, and involves several steps:\n",
        "1. Select a batch of real images\n",
        "2. Use generator to create a batch of fake images\n",
        "3. Send half of each batch to the discriminator, so it can decide which images are fake and which are real\n",
        "4. Train the discriminator on that data\n",
        "5. Train the generator based on the output of the discriminator and generate more believable fake images\n",
        "6. Summarize the model performance and save the generated images\n",
        "\n",
        "\n",
        "To help us organize all these steps, we can define a number of smaller functions and later combine it into one, breaking down the process."
      ],
      "metadata": {
        "id": "US9ub5PC7Q_9"
      }
    },
    {
      "cell_type": "markdown",
      "source": [
        "### Load the real samples\n",
        "* First, we need to start training the Discriminator with random real examples with label 1, which stands for \"real.\" To do that, we have to load the images of our MNIST dataset. Since we will create our own labels (1) for all theese images, we don't need to load the labels, and we don't need the test dataset, and so we will leave them as blank `_`. \n",
        "\n",
        "* The images we load are 2D arrays that only denote width and height, however, CNN expect 3D arrays as input, which includes width, height, and number of color channels. We have to update the images to include the grayscale color channel. We can do that by using an `np.expand_dims()` function. It expands the shape of an input array that is passed to it. \n",
        "\n",
        "* Lastly, we need to normalize our pixel values to the range of [0,1].\n",
        "\n"
      ],
      "metadata": {
        "id": "7hr-X05v9Rmi"
      }
    },
    {
      "cell_type": "code",
      "source": [
        "def load_real_samples():\n",
        "\t# load mnist dataset\n",
        "\t(train_images, _), (_, _) = load_data()\n",
        "\t# expand to 3d, e.g. add channels dimension\n",
        "\treal_images = np.expand_dims(train_images, axis=-1)\n",
        "\t# convert from unsigned ints to floats\n",
        "\treal_images = real_images.astype('float32')\n",
        "\t# scale from [0,255] to [0,1]\n",
        "\treal_images = real_images / 255.0\n",
        "\treturn real_images"
      ],
      "metadata": {
        "id": "i_tSZkS_dIjr"
      },
      "execution_count": null,
      "outputs": []
    },
    {
      "cell_type": "markdown",
      "source": [
        "### Select random real samples\n",
        "In order to train our discriminator well, we need to make sure that the discriminator recieves the samples in random order. We can achieve that by either shuffling the samples before each epoch, or by selecting random samples from the dataset. \n",
        "\n",
        "We will write a function that selects random images from the dataset and saves them as `x`, and also returns the labels `1`, to denote that these are real, and not generated, samples."
      ],
      "metadata": {
        "id": "y0i0gh3-UIhs"
      }
    },
    {
      "cell_type": "code",
      "source": [
        "# select real samples\n",
        "def generate_real_samples(dataset, n_samples):\n",
        "\t# choose random instances\n",
        "\trandom_images = np.random.randint(0, dataset.shape[0], n_samples)\n",
        "\t# retrieve selected images\n",
        "\treal_images = dataset[random_images]\n",
        "\t# generate 'real' class labels (1)\n",
        "\treal_labels = np.ones((n_samples, 1))\n",
        "\treturn real_images, real_labels\n",
        " "
      ],
      "metadata": {
        "id": "GFK7Gh-_eJcN"
      },
      "execution_count": null,
      "outputs": []
    },
    {
      "cell_type": "markdown",
      "source": [
        "### Generating fake images\n",
        "As we mentioned earlier, for the generator to be able to generate fake images, we first need to give it some kind of input. Usually, it case of generators, the input is random noise. \n",
        "The first function, `generate_latent_points` will generate the random noise, and the second function, `generate_fake_samples`, will use the generated noise as a basis for a \"prediction\" to create fake images of numbers. We will also return the labels `0` for these fake generated samples. "
      ],
      "metadata": {
        "id": "rrOokY5NVmqN"
      }
    },
    {
      "cell_type": "code",
      "source": [
        "# generate points in latent space as input for the generator\n",
        "def generate_latent_points(latent_dim, n_samples):\n",
        "\t# generate points in the latent space\n",
        "\tx_input = np.random.randn(latent_dim * n_samples)\n",
        "\t# reshape into a batch of inputs for the network\n",
        "\tx_input = x_input.reshape(n_samples, latent_dim)\n",
        "\treturn x_input"
      ],
      "metadata": {
        "id": "46IAlb-Termo"
      },
      "execution_count": null,
      "outputs": []
    },
    {
      "cell_type": "code",
      "source": [
        "# use the generator to generate n fake examples, with class labels\n",
        "def generate_fake_samples(generator, latent_dim, n_samples):\n",
        "\t# generate points in latent space\n",
        "\tx_input = generate_latent_points(latent_dim, n_samples)\n",
        "\t# predict outputs\n",
        "\tfake_images = generator.predict(x_input)\n",
        "\t# create 'fake' class labels (0)\n",
        "\tfake_labels = np.zeros((n_samples, 1))\n",
        "\treturn fake_images, fake_labels\n"
      ],
      "metadata": {
        "id": "QlHVH58ufx8o"
      },
      "execution_count": null,
      "outputs": []
    },
    {
      "cell_type": "markdown",
      "source": [
        "### Saving the generated images\n",
        "Now that we have successfully completed writing the functions that will load our data, select random samples, generated noise, and train the generator, we want to make sure that we save the generated images.\n",
        "To do this, we will plot several generated images by using `plt.subplot()`, and save them to the our working directory with `plt.savefig()`.\n",
        "\n",
        "In the filename, we want to keep the number of the epoch at which the image w as generated. We can do that by adding `%03d` in the filename, and specifying that we want to have the number of epoch there by adding `% (epoch+1)` at the end."
      ],
      "metadata": {
        "id": "kxPNIJvJWizK"
      }
    },
    {
      "cell_type": "code",
      "source": [
        "# create and save a plot of generated images (reversed grayscale)\n",
        "def save_plot(examples, epoch, n=10):\n",
        "\t# plot images\n",
        "\tfor i in range(n * n):\n",
        "\t\t# define subplot\n",
        "\t\tplt.subplot(n, n, 1 + i)\n",
        "\t\t# turn off axis\n",
        "\t\tplt.axis('off')\n",
        "\t\t# plot raw pixel data\n",
        "\t\tplt.imshow(examples[i, :, :, 0], cmap='gray_r')\n",
        "\t# save plot to file\n",
        "\tfilename = \"generated_plot_e%03d.png\" % (epoch+1)\n",
        "\tplt.savefig(filename)\n",
        "\tplt.close()"
      ],
      "metadata": {
        "id": "fNqlb6c8jiai"
      },
      "execution_count": null,
      "outputs": []
    },
    {
      "cell_type": "markdown",
      "source": [
        "### Train and evaluate discriminator\n",
        "Finally, before we can move on to writing our main training function, we need to train our discirminator and evaluate its perforomance.\n",
        "This function will involve four steps:\n",
        "* First, we will select real samples and real iamges by using our `generate_real_samples()` function, and train our **Dicriminator** on this data by calling `discriminator.evaluate()`.\n",
        "* Second, we will generate fake images with our **Generator** by using the other function we wrote, `generate_fake_samples()`, and train the **Discriminator** using these freshly generated images.\n",
        "* Third, we will pring the evaluation metrics.\n",
        "* Fourth, we will save the image by using our function `save_plot()` and our Generator model with `generator.save()`."
      ],
      "metadata": {
        "id": "Gb6eGSMnkx8X"
      }
    },
    {
      "cell_type": "code",
      "source": [
        "def summarize_performance(epoch, generator, discriminator, dataset, latent_dim, n_samples=100):\n",
        "\t# prepare real samples\n",
        "\treal_images, real_labels = generate_real_samples(dataset, n_samples)\n",
        "\t# evaluate discriminator on real examples\n",
        "\t_, accuracy_real = discriminator.evaluate(real_images, real_labels, verbose=0)\n",
        "\t# prepare fake examples\n",
        "\tfake_images, fake_labels = generate_fake_samples(generator, latent_dim, n_samples)\n",
        "\t# evaluate discriminator on fake examples\n",
        "\t_, accuracy_fake = discriminator.evaluate(fake_images, fake_labels, verbose=0)\n",
        "\t# summarize discriminator performance\n",
        "\tprint(\">Detecting real: %.0f%%, detecting fake: %.0f%%\" % (accuracy_real*100, accuracy_fake*100))\n",
        "\t# save plot\n",
        "\tsave_plot(fake_images, epoch)\n",
        "\t# save the generator model tile file\n",
        "\tfilename = \"generator_model_%03d.h5\" % (epoch + 1)\n",
        "\tgenerator.save(filename)"
      ],
      "metadata": {
        "id": "00uq-440lh6A"
      },
      "execution_count": null,
      "outputs": []
    },
    {
      "cell_type": "markdown",
      "source": [
        "### Train the model\n",
        "Now we are finally ready to write our final training function! \n",
        "* Specify how many batches will be trained during each epoch by dividing the overall number of the dataset by the size of the batch.\n",
        "* Calculate the half of each batch.\n",
        "* Loop over each epoch and over each iteration to:\n",
        " * Select real images from our dataset and take half of the batch using our function `generate_real_samples()`.\n",
        " * Generate fake images and take half of the batch using our function `generate_fake_samples()`.\n",
        " * Combine real half-batch and fake half-batch using `np.vstack()`, and passing it to the discriminator.\n",
        " * The disscriminator tries to decide, which images are fake, and which are real.\n",
        " * Prepare the latent points for the Generator in our GAN model by calling our function `generate_latent_points()`, and create the labels of (1).`1` labels are normally used for real images. However, as the Generator is trying to fool the Discriminator, it will pretend that its images are real by adding a fake real `1` label to the iamges it Generates. As a result, all the images, real and fake, that the discriminator receives, will have the \"real\" label `1`. And its job, then, is to recognize, which images are actually real (1), and which are fake (0).\n",
        " * Train GAN model calling `train_on_batch()` function.\n",
        " * Generate performance metrics and save the generated image and the generator model after each specified epoch in `if (i+1) % 1 == 0`. In this example, we save the image and the Generator model after every epoch. If we put `10` in `if (i+1) % 10 == 0`, we the function will save the image and the model after every 10 epochs.\n"
      ],
      "metadata": {
        "id": "5tAuN_vyozG3"
      }
    },
    {
      "cell_type": "code",
      "source": [
        "def train(generator, discriminator, gan, dataset, latent_dim, n_epochs=50, n_batch=256):\n",
        "\tbat_per_epo = int(dataset.shape[0] / n_batch)\n",
        "\thalf_batch = int(n_batch / 2)\n",
        "\t# loop over epochs\n",
        "\tfor epoch in range(n_epochs):\n",
        "\t\t# loop over the training set batches\n",
        "\t\tfor batch in range(bat_per_epo):\n",
        "\t\t\t# get randomly selected 'real' samples\n",
        "\t\t\treal_images, real_labels = generate_real_samples(dataset, half_batch)\n",
        "\t\t\t# generate 'fake' examples\n",
        "\t\t\tfake_images, fake_labels = generate_fake_samples(generator, latent_dim, half_batch)\n",
        "\t\t\t# create training set for the discriminator\n",
        "\t\t\timages, labels = np.vstack((real_images, fake_images)), np.vstack((real_labels, fake_labels))\n",
        "\t\t\t# update discriminator model weights\n",
        "\t\t\td_loss, _ = discriminator.train_on_batch(images, labels)\n",
        "\t\t\t# prepare points in latent space as input for the generator\n",
        "\t\t\timages_gan = generate_latent_points(latent_dim, n_batch)\n",
        "\t\t\t# create inverted labels for the fake samples\n",
        "\t\t\tlabels_gan = np.ones((n_batch, 1))\n",
        "\t\t\t# update the generator\n",
        "\t\t\tg_loss = gan.train_on_batch(images_gan, labels_gan)\n",
        "\t\tif (i+1) % 1 == 0:\n",
        "\t\t\tprint(\">%d, %d/%d, d=%.3f, g=%.3f\" % (epoch+1, batch+1, bat_per_epo, d_loss, g_loss))\n",
        "\t\t\tsummarize_performance(epoch, generator, discriminator, dataset, latent_dim)\n",
        "  "
      ],
      "metadata": {
        "id": "LfqyAb9Am-QM"
      },
      "execution_count": null,
      "outputs": []
    },
    {
      "cell_type": "code",
      "source": [
        "discriminator = make_discriminator()\n",
        "generator = make_generator(latent_dim)\n",
        "gan = make_gan(generator, discriminator)\n",
        "dataset = load_real_samples()\n",
        "latent_dim = 100"
      ],
      "metadata": {
        "id": "F7hD1o-3qVdX"
      },
      "execution_count": null,
      "outputs": []
    },
    {
      "cell_type": "markdown",
      "source": [
        "As we trin the model, the discriminator loss is epxected to be aorund 0.5 to 0.8. If there is a sudden change in the discirminator loss, it indicates that the generator started making bad examples, which makes it very easy for the discirminator to discriminate between real and fake images."
      ],
      "metadata": {
        "id": "m-1BDk06do7C"
      }
    },
    {
      "cell_type": "code",
      "source": [
        "%%time\n",
        "train(generator, discriminator, gan, dataset, latent_dim)"
      ],
      "metadata": {
        "colab": {
          "base_uri": "https://localhost:8080/"
        },
        "id": "9awxr2P_qsWu",
        "outputId": "1ae5d2ac-8f81-493c-e5e7-f4ddc93b1eac"
      },
      "execution_count": null,
      "outputs": [
        {
          "output_type": "stream",
          "name": "stdout",
          "text": [
            ">1, 234/234, d=0.693, g=0.681\n",
            ">Detecting real: 57%, detecting fake: 42%\n"
          ]
        },
        {
          "output_type": "stream",
          "name": "stderr",
          "text": [
            "WARNING:tensorflow:Compiled the loaded model, but the compiled metrics have yet to be built. `model.compile_metrics` will be empty until you train or evaluate the model.\n"
          ]
        },
        {
          "output_type": "stream",
          "name": "stdout",
          "text": [
            ">2, 234/234, d=0.629, g=0.789\n",
            ">Detecting real: 70%, detecting fake: 93%\n"
          ]
        },
        {
          "output_type": "stream",
          "name": "stderr",
          "text": [
            "WARNING:tensorflow:Compiled the loaded model, but the compiled metrics have yet to be built. `model.compile_metrics` will be empty until you train or evaluate the model.\n"
          ]
        },
        {
          "output_type": "stream",
          "name": "stdout",
          "text": [
            ">3, 234/234, d=0.670, g=0.723\n",
            ">Detecting real: 52%, detecting fake: 73%\n"
          ]
        },
        {
          "output_type": "stream",
          "name": "stderr",
          "text": [
            "WARNING:tensorflow:Compiled the loaded model, but the compiled metrics have yet to be built. `model.compile_metrics` will be empty until you train or evaluate the model.\n"
          ]
        },
        {
          "output_type": "stream",
          "name": "stdout",
          "text": [
            ">4, 234/234, d=0.689, g=0.723\n",
            ">Detecting real: 36%, detecting fake: 79%\n"
          ]
        },
        {
          "output_type": "stream",
          "name": "stderr",
          "text": [
            "WARNING:tensorflow:Compiled the loaded model, but the compiled metrics have yet to be built. `model.compile_metrics` will be empty until you train or evaluate the model.\n"
          ]
        },
        {
          "output_type": "stream",
          "name": "stdout",
          "text": [
            ">5, 234/234, d=0.734, g=0.606\n",
            ">Detecting real: 79%, detecting fake: 1%\n"
          ]
        },
        {
          "output_type": "stream",
          "name": "stderr",
          "text": [
            "WARNING:tensorflow:Compiled the loaded model, but the compiled metrics have yet to be built. `model.compile_metrics` will be empty until you train or evaluate the model.\n"
          ]
        },
        {
          "output_type": "stream",
          "name": "stdout",
          "text": [
            ">6, 234/234, d=0.712, g=0.628\n",
            ">Detecting real: 76%, detecting fake: 9%\n"
          ]
        },
        {
          "output_type": "stream",
          "name": "stderr",
          "text": [
            "WARNING:tensorflow:Compiled the loaded model, but the compiled metrics have yet to be built. `model.compile_metrics` will be empty until you train or evaluate the model.\n"
          ]
        },
        {
          "output_type": "stream",
          "name": "stdout",
          "text": [
            ">7, 234/234, d=0.702, g=0.678\n",
            ">Detecting real: 55%, detecting fake: 46%\n"
          ]
        },
        {
          "output_type": "stream",
          "name": "stderr",
          "text": [
            "WARNING:tensorflow:Compiled the loaded model, but the compiled metrics have yet to be built. `model.compile_metrics` will be empty until you train or evaluate the model.\n"
          ]
        },
        {
          "output_type": "stream",
          "name": "stdout",
          "text": [
            ">8, 234/234, d=0.690, g=0.706\n",
            ">Detecting real: 56%, detecting fake: 71%\n"
          ]
        },
        {
          "output_type": "stream",
          "name": "stderr",
          "text": [
            "WARNING:tensorflow:Compiled the loaded model, but the compiled metrics have yet to be built. `model.compile_metrics` will be empty until you train or evaluate the model.\n"
          ]
        },
        {
          "output_type": "stream",
          "name": "stdout",
          "text": [
            ">9, 234/234, d=0.665, g=0.974\n",
            ">Detecting real: 0%, detecting fake: 100%\n"
          ]
        },
        {
          "output_type": "stream",
          "name": "stderr",
          "text": [
            "WARNING:tensorflow:Compiled the loaded model, but the compiled metrics have yet to be built. `model.compile_metrics` will be empty until you train or evaluate the model.\n"
          ]
        },
        {
          "output_type": "stream",
          "name": "stdout",
          "text": [
            ">10, 234/234, d=0.679, g=0.720\n",
            ">Detecting real: 56%, detecting fake: 74%\n"
          ]
        },
        {
          "output_type": "stream",
          "name": "stderr",
          "text": [
            "WARNING:tensorflow:Compiled the loaded model, but the compiled metrics have yet to be built. `model.compile_metrics` will be empty until you train or evaluate the model.\n"
          ]
        },
        {
          "output_type": "stream",
          "name": "stdout",
          "text": [
            ">11, 234/234, d=0.675, g=0.707\n",
            ">Detecting real: 80%, detecting fake: 71%\n"
          ]
        },
        {
          "output_type": "stream",
          "name": "stderr",
          "text": [
            "WARNING:tensorflow:Compiled the loaded model, but the compiled metrics have yet to be built. `model.compile_metrics` will be empty until you train or evaluate the model.\n"
          ]
        },
        {
          "output_type": "stream",
          "name": "stdout",
          "text": [
            ">12, 234/234, d=0.678, g=0.757\n",
            ">Detecting real: 38%, detecting fake: 97%\n"
          ]
        },
        {
          "output_type": "stream",
          "name": "stderr",
          "text": [
            "WARNING:tensorflow:Compiled the loaded model, but the compiled metrics have yet to be built. `model.compile_metrics` will be empty until you train or evaluate the model.\n"
          ]
        },
        {
          "output_type": "stream",
          "name": "stdout",
          "text": [
            ">13, 234/234, d=0.677, g=0.726\n",
            ">Detecting real: 69%, detecting fake: 71%\n"
          ]
        },
        {
          "output_type": "stream",
          "name": "stderr",
          "text": [
            "WARNING:tensorflow:Compiled the loaded model, but the compiled metrics have yet to be built. `model.compile_metrics` will be empty until you train or evaluate the model.\n"
          ]
        },
        {
          "output_type": "stream",
          "name": "stdout",
          "text": [
            ">14, 234/234, d=0.690, g=0.708\n",
            ">Detecting real: 73%, detecting fake: 73%\n"
          ]
        },
        {
          "output_type": "stream",
          "name": "stderr",
          "text": [
            "WARNING:tensorflow:Compiled the loaded model, but the compiled metrics have yet to be built. `model.compile_metrics` will be empty until you train or evaluate the model.\n"
          ]
        },
        {
          "output_type": "stream",
          "name": "stdout",
          "text": [
            ">15, 234/234, d=0.684, g=0.768\n",
            ">Detecting real: 16%, detecting fake: 98%\n"
          ]
        },
        {
          "output_type": "stream",
          "name": "stderr",
          "text": [
            "WARNING:tensorflow:Compiled the loaded model, but the compiled metrics have yet to be built. `model.compile_metrics` will be empty until you train or evaluate the model.\n"
          ]
        },
        {
          "output_type": "stream",
          "name": "stdout",
          "text": [
            ">16, 234/234, d=0.693, g=0.700\n",
            ">Detecting real: 75%, detecting fake: 44%\n"
          ]
        },
        {
          "output_type": "stream",
          "name": "stderr",
          "text": [
            "WARNING:tensorflow:Compiled the loaded model, but the compiled metrics have yet to be built. `model.compile_metrics` will be empty until you train or evaluate the model.\n"
          ]
        },
        {
          "output_type": "stream",
          "name": "stdout",
          "text": [
            ">17, 234/234, d=0.690, g=0.700\n",
            ">Detecting real: 78%, detecting fake: 55%\n"
          ]
        },
        {
          "output_type": "stream",
          "name": "stderr",
          "text": [
            "WARNING:tensorflow:Compiled the loaded model, but the compiled metrics have yet to be built. `model.compile_metrics` will be empty until you train or evaluate the model.\n"
          ]
        },
        {
          "output_type": "stream",
          "name": "stdout",
          "text": [
            ">18, 234/234, d=0.682, g=0.742\n",
            ">Detecting real: 27%, detecting fake: 95%\n"
          ]
        },
        {
          "output_type": "stream",
          "name": "stderr",
          "text": [
            "WARNING:tensorflow:Compiled the loaded model, but the compiled metrics have yet to be built. `model.compile_metrics` will be empty until you train or evaluate the model.\n"
          ]
        },
        {
          "output_type": "stream",
          "name": "stdout",
          "text": [
            ">19, 234/234, d=0.689, g=0.721\n",
            ">Detecting real: 51%, detecting fake: 80%\n"
          ]
        },
        {
          "output_type": "stream",
          "name": "stderr",
          "text": [
            "WARNING:tensorflow:Compiled the loaded model, but the compiled metrics have yet to be built. `model.compile_metrics` will be empty until you train or evaluate the model.\n"
          ]
        },
        {
          "output_type": "stream",
          "name": "stdout",
          "text": [
            ">20, 234/234, d=0.685, g=0.654\n",
            ">Detecting real: 100%, detecting fake: 0%\n"
          ]
        },
        {
          "output_type": "stream",
          "name": "stderr",
          "text": [
            "WARNING:tensorflow:Compiled the loaded model, but the compiled metrics have yet to be built. `model.compile_metrics` will be empty until you train or evaluate the model.\n"
          ]
        },
        {
          "output_type": "stream",
          "name": "stdout",
          "text": [
            ">21, 234/234, d=0.695, g=0.717\n",
            ">Detecting real: 58%, detecting fake: 72%\n"
          ]
        },
        {
          "output_type": "stream",
          "name": "stderr",
          "text": [
            "WARNING:tensorflow:Compiled the loaded model, but the compiled metrics have yet to be built. `model.compile_metrics` will be empty until you train or evaluate the model.\n"
          ]
        },
        {
          "output_type": "stream",
          "name": "stdout",
          "text": [
            ">22, 234/234, d=0.689, g=0.647\n",
            ">Detecting real: 100%, detecting fake: 2%\n"
          ]
        },
        {
          "output_type": "stream",
          "name": "stderr",
          "text": [
            "WARNING:tensorflow:Compiled the loaded model, but the compiled metrics have yet to be built. `model.compile_metrics` will be empty until you train or evaluate the model.\n"
          ]
        },
        {
          "output_type": "stream",
          "name": "stdout",
          "text": [
            ">23, 234/234, d=0.689, g=0.665\n",
            ">Detecting real: 97%, detecting fake: 8%\n"
          ]
        },
        {
          "output_type": "stream",
          "name": "stderr",
          "text": [
            "WARNING:tensorflow:Compiled the loaded model, but the compiled metrics have yet to be built. `model.compile_metrics` will be empty until you train or evaluate the model.\n"
          ]
        },
        {
          "output_type": "stream",
          "name": "stdout",
          "text": [
            ">24, 234/234, d=0.684, g=0.712\n",
            ">Detecting real: 74%, detecting fake: 81%\n"
          ]
        },
        {
          "output_type": "stream",
          "name": "stderr",
          "text": [
            "WARNING:tensorflow:Compiled the loaded model, but the compiled metrics have yet to be built. `model.compile_metrics` will be empty until you train or evaluate the model.\n"
          ]
        },
        {
          "output_type": "stream",
          "name": "stdout",
          "text": [
            ">25, 234/234, d=0.682, g=0.694\n",
            ">Detecting real: 75%, detecting fake: 62%\n"
          ]
        },
        {
          "output_type": "stream",
          "name": "stderr",
          "text": [
            "WARNING:tensorflow:Compiled the loaded model, but the compiled metrics have yet to be built. `model.compile_metrics` will be empty until you train or evaluate the model.\n"
          ]
        },
        {
          "output_type": "stream",
          "name": "stdout",
          "text": [
            ">26, 234/234, d=0.684, g=0.711\n",
            ">Detecting real: 50%, detecting fake: 87%\n"
          ]
        },
        {
          "output_type": "stream",
          "name": "stderr",
          "text": [
            "WARNING:tensorflow:Compiled the loaded model, but the compiled metrics have yet to be built. `model.compile_metrics` will be empty until you train or evaluate the model.\n"
          ]
        },
        {
          "output_type": "stream",
          "name": "stdout",
          "text": [
            ">27, 234/234, d=0.685, g=0.694\n",
            ">Detecting real: 83%, detecting fake: 62%\n"
          ]
        },
        {
          "output_type": "stream",
          "name": "stderr",
          "text": [
            "WARNING:tensorflow:Compiled the loaded model, but the compiled metrics have yet to be built. `model.compile_metrics` will be empty until you train or evaluate the model.\n"
          ]
        },
        {
          "output_type": "stream",
          "name": "stdout",
          "text": [
            ">28, 234/234, d=0.686, g=0.678\n",
            ">Detecting real: 98%, detecting fake: 19%\n"
          ]
        },
        {
          "output_type": "stream",
          "name": "stderr",
          "text": [
            "WARNING:tensorflow:Compiled the loaded model, but the compiled metrics have yet to be built. `model.compile_metrics` will be empty until you train or evaluate the model.\n"
          ]
        },
        {
          "output_type": "stream",
          "name": "stdout",
          "text": [
            ">29, 234/234, d=0.688, g=0.685\n",
            ">Detecting real: 94%, detecting fake: 37%\n"
          ]
        },
        {
          "output_type": "stream",
          "name": "stderr",
          "text": [
            "WARNING:tensorflow:Compiled the loaded model, but the compiled metrics have yet to be built. `model.compile_metrics` will be empty until you train or evaluate the model.\n"
          ]
        },
        {
          "output_type": "stream",
          "name": "stdout",
          "text": [
            ">30, 234/234, d=0.688, g=0.706\n",
            ">Detecting real: 66%, detecting fake: 72%\n"
          ]
        },
        {
          "output_type": "stream",
          "name": "stderr",
          "text": [
            "WARNING:tensorflow:Compiled the loaded model, but the compiled metrics have yet to be built. `model.compile_metrics` will be empty until you train or evaluate the model.\n"
          ]
        },
        {
          "output_type": "stream",
          "name": "stdout",
          "text": [
            ">31, 234/234, d=0.687, g=0.776\n",
            ">Detecting real: 7%, detecting fake: 100%\n"
          ]
        },
        {
          "output_type": "stream",
          "name": "stderr",
          "text": [
            "WARNING:tensorflow:Compiled the loaded model, but the compiled metrics have yet to be built. `model.compile_metrics` will be empty until you train or evaluate the model.\n"
          ]
        },
        {
          "output_type": "stream",
          "name": "stdout",
          "text": [
            ">32, 234/234, d=0.687, g=0.692\n",
            ">Detecting real: 89%, detecting fake: 31%\n"
          ]
        },
        {
          "output_type": "stream",
          "name": "stderr",
          "text": [
            "WARNING:tensorflow:Compiled the loaded model, but the compiled metrics have yet to be built. `model.compile_metrics` will be empty until you train or evaluate the model.\n"
          ]
        },
        {
          "output_type": "stream",
          "name": "stdout",
          "text": [
            ">33, 234/234, d=0.702, g=0.724\n",
            ">Detecting real: 49%, detecting fake: 82%\n"
          ]
        },
        {
          "output_type": "stream",
          "name": "stderr",
          "text": [
            "WARNING:tensorflow:Compiled the loaded model, but the compiled metrics have yet to be built. `model.compile_metrics` will be empty until you train or evaluate the model.\n"
          ]
        },
        {
          "output_type": "stream",
          "name": "stdout",
          "text": [
            ">34, 234/234, d=0.689, g=0.801\n",
            ">Detecting real: 2%, detecting fake: 100%\n"
          ]
        },
        {
          "output_type": "stream",
          "name": "stderr",
          "text": [
            "WARNING:tensorflow:Compiled the loaded model, but the compiled metrics have yet to be built. `model.compile_metrics` will be empty until you train or evaluate the model.\n"
          ]
        },
        {
          "output_type": "stream",
          "name": "stdout",
          "text": [
            ">35, 234/234, d=0.689, g=0.728\n",
            ">Detecting real: 38%, detecting fake: 86%\n"
          ]
        },
        {
          "output_type": "stream",
          "name": "stderr",
          "text": [
            "WARNING:tensorflow:Compiled the loaded model, but the compiled metrics have yet to be built. `model.compile_metrics` will be empty until you train or evaluate the model.\n"
          ]
        },
        {
          "output_type": "stream",
          "name": "stdout",
          "text": [
            ">36, 234/234, d=0.684, g=0.702\n",
            ">Detecting real: 68%, detecting fake: 69%\n"
          ]
        },
        {
          "output_type": "stream",
          "name": "stderr",
          "text": [
            "WARNING:tensorflow:Compiled the loaded model, but the compiled metrics have yet to be built. `model.compile_metrics` will be empty until you train or evaluate the model.\n"
          ]
        },
        {
          "output_type": "stream",
          "name": "stdout",
          "text": [
            ">37, 234/234, d=0.680, g=0.760\n",
            ">Detecting real: 10%, detecting fake: 99%\n"
          ]
        },
        {
          "output_type": "stream",
          "name": "stderr",
          "text": [
            "WARNING:tensorflow:Compiled the loaded model, but the compiled metrics have yet to be built. `model.compile_metrics` will be empty until you train or evaluate the model.\n"
          ]
        },
        {
          "output_type": "stream",
          "name": "stdout",
          "text": [
            ">38, 234/234, d=0.685, g=0.679\n",
            ">Detecting real: 99%, detecting fake: 5%\n"
          ]
        },
        {
          "output_type": "stream",
          "name": "stderr",
          "text": [
            "WARNING:tensorflow:Compiled the loaded model, but the compiled metrics have yet to be built. `model.compile_metrics` will be empty until you train or evaluate the model.\n"
          ]
        },
        {
          "output_type": "stream",
          "name": "stdout",
          "text": [
            ">39, 234/234, d=0.676, g=0.689\n",
            ">Detecting real: 81%, detecting fake: 35%\n"
          ]
        },
        {
          "output_type": "stream",
          "name": "stderr",
          "text": [
            "WARNING:tensorflow:Compiled the loaded model, but the compiled metrics have yet to be built. `model.compile_metrics` will be empty until you train or evaluate the model.\n"
          ]
        },
        {
          "output_type": "stream",
          "name": "stdout",
          "text": [
            ">40, 234/234, d=0.685, g=0.725\n",
            ">Detecting real: 29%, detecting fake: 94%\n"
          ]
        },
        {
          "output_type": "stream",
          "name": "stderr",
          "text": [
            "WARNING:tensorflow:Compiled the loaded model, but the compiled metrics have yet to be built. `model.compile_metrics` will be empty until you train or evaluate the model.\n"
          ]
        },
        {
          "output_type": "stream",
          "name": "stdout",
          "text": [
            ">41, 234/234, d=0.694, g=0.715\n",
            ">Detecting real: 61%, detecting fake: 86%\n"
          ]
        },
        {
          "output_type": "stream",
          "name": "stderr",
          "text": [
            "WARNING:tensorflow:Compiled the loaded model, but the compiled metrics have yet to be built. `model.compile_metrics` will be empty until you train or evaluate the model.\n"
          ]
        },
        {
          "output_type": "stream",
          "name": "stdout",
          "text": [
            ">42, 234/234, d=0.687, g=0.703\n",
            ">Detecting real: 67%, detecting fake: 76%\n"
          ]
        },
        {
          "output_type": "stream",
          "name": "stderr",
          "text": [
            "WARNING:tensorflow:Compiled the loaded model, but the compiled metrics have yet to be built. `model.compile_metrics` will be empty until you train or evaluate the model.\n"
          ]
        },
        {
          "output_type": "stream",
          "name": "stdout",
          "text": [
            ">43, 234/234, d=0.695, g=0.746\n",
            ">Detecting real: 5%, detecting fake: 100%\n"
          ]
        },
        {
          "output_type": "stream",
          "name": "stderr",
          "text": [
            "WARNING:tensorflow:Compiled the loaded model, but the compiled metrics have yet to be built. `model.compile_metrics` will be empty until you train or evaluate the model.\n"
          ]
        },
        {
          "output_type": "stream",
          "name": "stdout",
          "text": [
            ">44, 234/234, d=0.683, g=0.694\n",
            ">Detecting real: 69%, detecting fake: 68%\n"
          ]
        },
        {
          "output_type": "stream",
          "name": "stderr",
          "text": [
            "WARNING:tensorflow:Compiled the loaded model, but the compiled metrics have yet to be built. `model.compile_metrics` will be empty until you train or evaluate the model.\n"
          ]
        },
        {
          "output_type": "stream",
          "name": "stdout",
          "text": [
            ">45, 234/234, d=0.674, g=0.723\n",
            ">Detecting real: 48%, detecting fake: 92%\n"
          ]
        },
        {
          "output_type": "stream",
          "name": "stderr",
          "text": [
            "WARNING:tensorflow:Compiled the loaded model, but the compiled metrics have yet to be built. `model.compile_metrics` will be empty until you train or evaluate the model.\n"
          ]
        },
        {
          "output_type": "stream",
          "name": "stdout",
          "text": [
            ">46, 234/234, d=0.684, g=0.673\n",
            ">Detecting real: 91%, detecting fake: 31%\n"
          ]
        },
        {
          "output_type": "stream",
          "name": "stderr",
          "text": [
            "WARNING:tensorflow:Compiled the loaded model, but the compiled metrics have yet to be built. `model.compile_metrics` will be empty until you train or evaluate the model.\n"
          ]
        },
        {
          "output_type": "stream",
          "name": "stdout",
          "text": [
            ">47, 234/234, d=0.691, g=0.729\n",
            ">Detecting real: 27%, detecting fake: 94%\n"
          ]
        },
        {
          "output_type": "stream",
          "name": "stderr",
          "text": [
            "WARNING:tensorflow:Compiled the loaded model, but the compiled metrics have yet to be built. `model.compile_metrics` will be empty until you train or evaluate the model.\n"
          ]
        },
        {
          "output_type": "stream",
          "name": "stdout",
          "text": [
            ">48, 234/234, d=0.693, g=0.707\n",
            ">Detecting real: 48%, detecting fake: 72%\n"
          ]
        },
        {
          "output_type": "stream",
          "name": "stderr",
          "text": [
            "WARNING:tensorflow:Compiled the loaded model, but the compiled metrics have yet to be built. `model.compile_metrics` will be empty until you train or evaluate the model.\n"
          ]
        },
        {
          "output_type": "stream",
          "name": "stdout",
          "text": [
            ">49, 234/234, d=0.693, g=0.682\n",
            ">Detecting real: 77%, detecting fake: 49%\n"
          ]
        },
        {
          "output_type": "stream",
          "name": "stderr",
          "text": [
            "WARNING:tensorflow:Compiled the loaded model, but the compiled metrics have yet to be built. `model.compile_metrics` will be empty until you train or evaluate the model.\n"
          ]
        },
        {
          "output_type": "stream",
          "name": "stdout",
          "text": [
            ">50, 234/234, d=0.690, g=0.704\n",
            ">Detecting real: 47%, detecting fake: 75%\n"
          ]
        },
        {
          "output_type": "stream",
          "name": "stderr",
          "text": [
            "WARNING:tensorflow:Compiled the loaded model, but the compiled metrics have yet to be built. `model.compile_metrics` will be empty until you train or evaluate the model.\n"
          ]
        },
        {
          "output_type": "stream",
          "name": "stdout",
          "text": [
            "CPU times: user 23min 41s, sys: 39.3 s, total: 24min 20s\n",
            "Wall time: 25min 15s\n"
          ]
        }
      ]
    },
    {
      "cell_type": "markdown",
      "source": [
        "### Display generated images\n",
        "Now that we have trained our model, let's take a look at some of the images it generated.\n",
        "This time we will try using PIL library. "
      ],
      "metadata": {
        "id": "ln-oYSE5vAaO"
      }
    },
    {
      "cell_type": "code",
      "source": [
        "import PIL \n",
        "# Display a single image using the epoch number\n",
        "def display_image(epoch_no):\n",
        "  return PIL.Image.open('generated_plot_e{:03d}.png'.format(epoch_no))"
      ],
      "metadata": {
        "id": "SrRpRHwM3h3p"
      },
      "execution_count": null,
      "outputs": []
    },
    {
      "cell_type": "markdown",
      "source": [
        "For a more easy comparison, let's plot two images: the first image from the first epoch, and the second image from the last epoch of the training."
      ],
      "metadata": {
        "id": "-0kMNnLBvRst"
      }
    },
    {
      "cell_type": "code",
      "source": [
        "epoch_nr_1 = 1\n",
        "epoch_nr_2 = 50\n",
        "img1 = display_image(epoch_nr_1)\n",
        "img2 = display_image(epoch_nr_2)\n",
        "\n",
        "def get_2_images(img1, img2):\n",
        "    images = PIL.Image.new('RGB', (img1.width, img1.height + img2.height))\n",
        "    print(f\"After {epoch_nr_1} epochs:\")\n",
        "    images.paste(img1, (0, 0))\n",
        "    print(f\"After {epoch_nr_2} epochs:\")\n",
        "    images.paste(img2, (0, img1.height))\n",
        "    return images\n",
        "\n",
        "get_2_images(img1, img2)"
      ],
      "metadata": {
        "colab": {
          "base_uri": "https://localhost:8080/",
          "height": 629
        },
        "id": "1fJ405cn6HSo",
        "outputId": "50e91bd0-aba1-4f32-e88b-7b71ceb2809e"
      },
      "execution_count": null,
      "outputs": [
        {
          "output_type": "stream",
          "name": "stdout",
          "text": [
            "After 1 epochs:\n",
            "After 50 epochs:\n"
          ]
        },
        {
          "output_type": "execute_result",
          "data": {
            "text/plain": [
              "<PIL.Image.Image image mode=RGB size=432x576 at 0x7F3FF0927690>"
            ],
            "image/png": "[encoded data removed]"
          },
          "metadata": {},
          "execution_count": 28
        }
      ]
    }
  ]
}